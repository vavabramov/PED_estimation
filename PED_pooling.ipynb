{
 "cells": [
  {
   "cell_type": "code",
   "execution_count": 1,
   "id": "d08b6e05",
   "metadata": {
    "ExecuteTime": {
     "end_time": "2022-05-15T20:15:00.977218Z",
     "start_time": "2022-05-15T20:15:00.216077Z"
    }
   },
   "outputs": [],
   "source": [
    "import pandas as pd\n",
    "import numpy as np\n",
    "from datetime import timedelta\n",
    "\n",
    "import statsmodels.api as sm\n",
    "from statsmodels.formula.api import ols\n",
    "\n",
    "from sklearn.metrics import mean_squared_error, mean_absolute_error, mean_absolute_percentage_error\n",
    "\n",
    "import seaborn as sns\n",
    "import plotly.express as px\n",
    "import matplotlib.pyplot as plt\n",
    "import gc\n",
    "import sys\n",
    "\n",
    "#Utilities\n",
    "import warnings\n",
    "from tqdm import tqdm\n",
    "import time\n",
    "warnings.filterwarnings('ignore')\n",
    "pd.set_option('display.max_columns', None)\n",
    "pd.set_option('display.float_format', lambda x: '%.4f' % x) # floats view format"
   ]
  },
  {
   "cell_type": "markdown",
   "id": "41e369de",
   "metadata": {},
   "source": [
    "## Globals"
   ]
  },
  {
   "cell_type": "code",
   "execution_count": 2,
   "id": "51054c41",
   "metadata": {
    "ExecuteTime": {
     "end_time": "2022-05-15T20:15:00.979864Z",
     "start_time": "2022-05-15T20:15:00.978353Z"
    }
   },
   "outputs": [],
   "source": [
    "data_folder = '/home/vlad/DiplomaWork/data'\n",
    "RS = 42"
   ]
  },
  {
   "cell_type": "markdown",
   "id": "64a0a1b0",
   "metadata": {},
   "source": [
    "## Utilities"
   ]
  },
  {
   "cell_type": "code",
   "execution_count": 3,
   "id": "d2686796",
   "metadata": {
    "ExecuteTime": {
     "end_time": "2022-05-15T20:15:00.984271Z",
     "start_time": "2022-05-15T20:15:00.980906Z"
    }
   },
   "outputs": [],
   "source": [
    "# Get execution time and data size\n",
    "def execution_time(func):\n",
    "    def wrapper(*args, **kwargs):\n",
    "        t1 = time.time()\n",
    "        res = func(*args, **kwargs)\n",
    "        t2 = time.time()\n",
    "        ex_mins = (t2 - t1)//60\n",
    "        ex_sec =  (t2 - t1)%60\n",
    "        print(f'Process time: {ex_mins} min, {int(ex_sec)} sec')\n",
    "        if res is not None:\n",
    "            print(f'Data size: {res.shape[0]} x {res.shape[1]}')\n",
    "            return res\n",
    "    return wrapper\n",
    "\n",
    "# Check NaN ratio per column\n",
    "def get_nan_ratio(df):\n",
    "    length = df.shape[0]\n",
    "    ratios = []\n",
    "    for col in df.columns:\n",
    "        nan_ratio = 100 * (1 - df[col].count() / length)\n",
    "        ratios.append(nan_ratio)\n",
    "    stat_df = pd.DataFrame()\n",
    "    stat_df['Column'] = df.columns\n",
    "    stat_df['NaN_ratio_prc'] = ratios\n",
    "    return stat_df.sort_values(by = ['NaN_ratio_prc'], ascending = False)"
   ]
  },
  {
   "cell_type": "markdown",
   "id": "74380639",
   "metadata": {},
   "source": [
    "## Data read"
   ]
  },
  {
   "cell_type": "code",
   "execution_count": 4,
   "id": "f85faf10",
   "metadata": {
    "ExecuteTime": {
     "end_time": "2022-05-15T20:15:15.370493Z",
     "start_time": "2022-05-15T20:15:00.985099Z"
    }
   },
   "outputs": [
    {
     "name": "stdout",
     "output_type": "stream",
     "text": [
      "(17394831, 24)\n"
     ]
    },
    {
     "data": {
      "text/html": [
       "<div>\n",
       "<style scoped>\n",
       "    .dataframe tbody tr th:only-of-type {\n",
       "        vertical-align: middle;\n",
       "    }\n",
       "\n",
       "    .dataframe tbody tr th {\n",
       "        vertical-align: top;\n",
       "    }\n",
       "\n",
       "    .dataframe thead th {\n",
       "        text-align: right;\n",
       "    }\n",
       "</style>\n",
       "<table border=\"1\" class=\"dataframe\">\n",
       "  <thead>\n",
       "    <tr style=\"text-align: right;\">\n",
       "      <th></th>\n",
       "      <th>PRODUCT_ID</th>\n",
       "      <th>LOCATION_id</th>\n",
       "      <th>customer_id</th>\n",
       "      <th>distr_channel_id</th>\n",
       "      <th>period_dt</th>\n",
       "      <th>PRICE_REG</th>\n",
       "      <th>PRICE_ACT</th>\n",
       "      <th>PRICE_PROMO</th>\n",
       "      <th>PRICE_DISCOUNT_RATE</th>\n",
       "      <th>PROMO_1001</th>\n",
       "      <th>PROMO_1002</th>\n",
       "      <th>PROMO_1003</th>\n",
       "      <th>PROMO_FLG</th>\n",
       "      <th>PROMO_FLG_DR</th>\n",
       "      <th>DEFICIT_FLG1</th>\n",
       "      <th>DEFICIT_FLG2</th>\n",
       "      <th>STOCK_QTY</th>\n",
       "      <th>TGT_QTY</th>\n",
       "      <th>TGT_QTY_R</th>\n",
       "      <th>NUM_AUTHORIZATION</th>\n",
       "      <th>out_part</th>\n",
       "      <th>ml_part</th>\n",
       "      <th>vf_part</th>\n",
       "      <th>bl_part</th>\n",
       "    </tr>\n",
       "  </thead>\n",
       "  <tbody>\n",
       "    <tr>\n",
       "      <th>0</th>\n",
       "      <td>203945</td>\n",
       "      <td>4401</td>\n",
       "      <td>-6</td>\n",
       "      <td>-2</td>\n",
       "      <td>22514</td>\n",
       "      <td>81.0000</td>\n",
       "      <td>81.0000</td>\n",
       "      <td>81.0000</td>\n",
       "      <td>0.0000</td>\n",
       "      <td>0</td>\n",
       "      <td>0</td>\n",
       "      <td>0</td>\n",
       "      <td>0</td>\n",
       "      <td>0.0000</td>\n",
       "      <td>0</td>\n",
       "      <td>0</td>\n",
       "      <td>NaN</td>\n",
       "      <td>NaN</td>\n",
       "      <td>NaN</td>\n",
       "      <td>1</td>\n",
       "      <td>NaN</td>\n",
       "      <td>13</td>\n",
       "      <td>16</td>\n",
       "      <td>2</td>\n",
       "    </tr>\n",
       "    <tr>\n",
       "      <th>1</th>\n",
       "      <td>203945</td>\n",
       "      <td>4401</td>\n",
       "      <td>-6</td>\n",
       "      <td>-2</td>\n",
       "      <td>22563</td>\n",
       "      <td>83.0000</td>\n",
       "      <td>83.0000</td>\n",
       "      <td>83.0000</td>\n",
       "      <td>0.0000</td>\n",
       "      <td>0</td>\n",
       "      <td>0</td>\n",
       "      <td>0</td>\n",
       "      <td>0</td>\n",
       "      <td>0.0000</td>\n",
       "      <td>0</td>\n",
       "      <td>0</td>\n",
       "      <td>NaN</td>\n",
       "      <td>NaN</td>\n",
       "      <td>NaN</td>\n",
       "      <td>1</td>\n",
       "      <td>NaN</td>\n",
       "      <td>13</td>\n",
       "      <td>16</td>\n",
       "      <td>2</td>\n",
       "    </tr>\n",
       "    <tr>\n",
       "      <th>2</th>\n",
       "      <td>203945</td>\n",
       "      <td>4401</td>\n",
       "      <td>-6</td>\n",
       "      <td>-2</td>\n",
       "      <td>22576</td>\n",
       "      <td>83.0000</td>\n",
       "      <td>83.0000</td>\n",
       "      <td>83.0000</td>\n",
       "      <td>0.0000</td>\n",
       "      <td>0</td>\n",
       "      <td>0</td>\n",
       "      <td>0</td>\n",
       "      <td>0</td>\n",
       "      <td>0.0000</td>\n",
       "      <td>0</td>\n",
       "      <td>0</td>\n",
       "      <td>NaN</td>\n",
       "      <td>NaN</td>\n",
       "      <td>NaN</td>\n",
       "      <td>1</td>\n",
       "      <td>NaN</td>\n",
       "      <td>13</td>\n",
       "      <td>16</td>\n",
       "      <td>2</td>\n",
       "    </tr>\n",
       "    <tr>\n",
       "      <th>3</th>\n",
       "      <td>203945</td>\n",
       "      <td>9502</td>\n",
       "      <td>-6</td>\n",
       "      <td>-2</td>\n",
       "      <td>22542</td>\n",
       "      <td>NaN</td>\n",
       "      <td>NaN</td>\n",
       "      <td>NaN</td>\n",
       "      <td>0.0000</td>\n",
       "      <td>0</td>\n",
       "      <td>0</td>\n",
       "      <td>0</td>\n",
       "      <td>0</td>\n",
       "      <td>0.0000</td>\n",
       "      <td>0</td>\n",
       "      <td>0</td>\n",
       "      <td>NaN</td>\n",
       "      <td>NaN</td>\n",
       "      <td>NaN</td>\n",
       "      <td>1</td>\n",
       "      <td>NaN</td>\n",
       "      <td>5</td>\n",
       "      <td>42</td>\n",
       "      <td>2</td>\n",
       "    </tr>\n",
       "    <tr>\n",
       "      <th>4</th>\n",
       "      <td>203945</td>\n",
       "      <td>9502</td>\n",
       "      <td>-6</td>\n",
       "      <td>-2</td>\n",
       "      <td>22555</td>\n",
       "      <td>NaN</td>\n",
       "      <td>NaN</td>\n",
       "      <td>NaN</td>\n",
       "      <td>0.0000</td>\n",
       "      <td>0</td>\n",
       "      <td>0</td>\n",
       "      <td>0</td>\n",
       "      <td>0</td>\n",
       "      <td>0.0000</td>\n",
       "      <td>0</td>\n",
       "      <td>0</td>\n",
       "      <td>NaN</td>\n",
       "      <td>NaN</td>\n",
       "      <td>NaN</td>\n",
       "      <td>1</td>\n",
       "      <td>NaN</td>\n",
       "      <td>5</td>\n",
       "      <td>42</td>\n",
       "      <td>2</td>\n",
       "    </tr>\n",
       "  </tbody>\n",
       "</table>\n",
       "</div>"
      ],
      "text/plain": [
       "   PRODUCT_ID  LOCATION_id  customer_id  distr_channel_id  period_dt  \\\n",
       "0      203945         4401           -6                -2      22514   \n",
       "1      203945         4401           -6                -2      22563   \n",
       "2      203945         4401           -6                -2      22576   \n",
       "3      203945         9502           -6                -2      22542   \n",
       "4      203945         9502           -6                -2      22555   \n",
       "\n",
       "   PRICE_REG  PRICE_ACT  PRICE_PROMO  PRICE_DISCOUNT_RATE  PROMO_1001  \\\n",
       "0    81.0000    81.0000      81.0000               0.0000           0   \n",
       "1    83.0000    83.0000      83.0000               0.0000           0   \n",
       "2    83.0000    83.0000      83.0000               0.0000           0   \n",
       "3        NaN        NaN          NaN               0.0000           0   \n",
       "4        NaN        NaN          NaN               0.0000           0   \n",
       "\n",
       "   PROMO_1002  PROMO_1003  PROMO_FLG  PROMO_FLG_DR  DEFICIT_FLG1  \\\n",
       "0           0           0          0        0.0000             0   \n",
       "1           0           0          0        0.0000             0   \n",
       "2           0           0          0        0.0000             0   \n",
       "3           0           0          0        0.0000             0   \n",
       "4           0           0          0        0.0000             0   \n",
       "\n",
       "   DEFICIT_FLG2  STOCK_QTY  TGT_QTY  TGT_QTY_R  NUM_AUTHORIZATION  out_part  \\\n",
       "0             0        NaN      NaN        NaN                  1       NaN   \n",
       "1             0        NaN      NaN        NaN                  1       NaN   \n",
       "2             0        NaN      NaN        NaN                  1       NaN   \n",
       "3             0        NaN      NaN        NaN                  1       NaN   \n",
       "4             0        NaN      NaN        NaN                  1       NaN   \n",
       "\n",
       "   ml_part  vf_part  bl_part  \n",
       "0       13       16        2  \n",
       "1       13       16        2  \n",
       "2       13       16        2  \n",
       "3        5       42        2  \n",
       "4        5       42        2  "
      ]
     },
     "execution_count": 4,
     "metadata": {},
     "output_type": "execute_result"
    }
   ],
   "source": [
    "df = pd.read_csv(f'{data_folder}/PRE_ABT_POS.csv')\n",
    "products = pd.read_csv(f'{data_folder}/PRODUCTS.csv')\n",
    "products_ids = products['PRODUCT_ID'].values\n",
    "df = df[df['product_id'].isin(products_ids)]\n",
    "df = df.rename(columns = {'product_id': 'PRODUCT_ID'})\n",
    "\n",
    "print(df.shape)\n",
    "df.head()"
   ]
  },
  {
   "cell_type": "markdown",
   "id": "ace89cea",
   "metadata": {},
   "source": [
    "## Preprocessing"
   ]
  },
  {
   "cell_type": "code",
   "execution_count": 5,
   "id": "75df7a60",
   "metadata": {
    "ExecuteTime": {
     "end_time": "2022-05-15T20:15:15.375886Z",
     "start_time": "2022-05-15T20:15:15.371463Z"
    }
   },
   "outputs": [],
   "source": [
    "def preprocess_date(df):\n",
    "    df['POS_DT'] = pd.to_datetime(df['POS_DT'], format=\"%d%b%Y\")\n",
    "    df['MONTH'] = df['POS_DT'].dt.month\n",
    "    df['YEAR'] = df['POS_DT'].dt.year\n",
    "    return df.drop(columns = ['POS_DT'])\n",
    "\n",
    "def add_days_to_date(date, days):\n",
    "    added_date = pd.to_datetime(date) + timedelta(days=days)\n",
    "    added_date = added_date.strftime(\"%Y-%m-%d\")\n",
    "    return added_date\n",
    "\n",
    "def dates_giver(df):\n",
    "    df['DATE'] = '01-01-1960'\n",
    "    df['DATE'] = pd.to_datetime(df['DATE'], format=\"%d-%m-%Y\")\n",
    "    df['DATE'] = df.apply(lambda x: add_days_to_date(x['DATE'], x['period_dt']), axis = 1)\n",
    "    data = df[['DATE', 'PRODUCT_ID', 'LOCATION_id', 'PRICE_REG', 'PRICE_PROMO', 'STOCK_QTY', 'TGT_QTY']]\n",
    "    data['week_number'] = pd.to_datetime(data['DATE'], format = \"%Y-%m-%d\").dt.week\n",
    "    data['month_number'] = pd.to_datetime(data['DATE'], format = \"%Y-%m-%d\").dt.month\n",
    "    data['year'] = pd.to_datetime(data['DATE'], format = \"%Y-%m-%d\").dt.year\n",
    "    data['day'] = pd.to_datetime(data['DATE'], format = \"%Y-%m-%d\").dt.day\n",
    "    return data\n",
    "\n",
    "@execution_time\n",
    "def preprocessing(df):\n",
    "    df = dates_giver(df)\n",
    "    # data = data.drop(columns = ['DATE'])\n",
    "    df = df[df['TGT_QTY'].notnull()]  \n",
    "    df = df[df['STOCK_QTY'].notnull()]\n",
    "    df = df.reset_index(drop = True)\n",
    "    return df\n",
    "    "
   ]
  },
  {
   "cell_type": "code",
   "execution_count": 6,
   "id": "16ae8983",
   "metadata": {
    "ExecuteTime": {
     "end_time": "2022-05-15T20:20:04.815476Z",
     "start_time": "2022-05-15T20:15:15.376649Z"
    }
   },
   "outputs": [
    {
     "name": "stdout",
     "output_type": "stream",
     "text": [
      "Process time: 4.0 min, 49 sec\n",
      "Data size: 13020968 x 11\n"
     ]
    },
    {
     "data": {
      "text/html": [
       "<div>\n",
       "<style scoped>\n",
       "    .dataframe tbody tr th:only-of-type {\n",
       "        vertical-align: middle;\n",
       "    }\n",
       "\n",
       "    .dataframe tbody tr th {\n",
       "        vertical-align: top;\n",
       "    }\n",
       "\n",
       "    .dataframe thead th {\n",
       "        text-align: right;\n",
       "    }\n",
       "</style>\n",
       "<table border=\"1\" class=\"dataframe\">\n",
       "  <thead>\n",
       "    <tr style=\"text-align: right;\">\n",
       "      <th></th>\n",
       "      <th>DATE</th>\n",
       "      <th>PRODUCT_ID</th>\n",
       "      <th>LOCATION_id</th>\n",
       "      <th>PRICE_REG</th>\n",
       "      <th>PRICE_PROMO</th>\n",
       "      <th>STOCK_QTY</th>\n",
       "      <th>TGT_QTY</th>\n",
       "      <th>week_number</th>\n",
       "      <th>month_number</th>\n",
       "      <th>year</th>\n",
       "      <th>day</th>\n",
       "    </tr>\n",
       "  </thead>\n",
       "  <tbody>\n",
       "    <tr>\n",
       "      <th>0</th>\n",
       "      <td>2019-02-22</td>\n",
       "      <td>205880</td>\n",
       "      <td>145</td>\n",
       "      <td>105.0000</td>\n",
       "      <td>94.5000</td>\n",
       "      <td>2.0000</td>\n",
       "      <td>0.0000</td>\n",
       "      <td>8</td>\n",
       "      <td>2</td>\n",
       "      <td>2019</td>\n",
       "      <td>22</td>\n",
       "    </tr>\n",
       "    <tr>\n",
       "      <th>1</th>\n",
       "      <td>2019-03-16</td>\n",
       "      <td>205880</td>\n",
       "      <td>145</td>\n",
       "      <td>105.0000</td>\n",
       "      <td>89.4700</td>\n",
       "      <td>2.0000</td>\n",
       "      <td>0.0000</td>\n",
       "      <td>11</td>\n",
       "      <td>3</td>\n",
       "      <td>2019</td>\n",
       "      <td>16</td>\n",
       "    </tr>\n",
       "    <tr>\n",
       "      <th>2</th>\n",
       "      <td>2019-05-13</td>\n",
       "      <td>205880</td>\n",
       "      <td>145</td>\n",
       "      <td>105.0000</td>\n",
       "      <td>94.5000</td>\n",
       "      <td>2.0000</td>\n",
       "      <td>0.0000</td>\n",
       "      <td>20</td>\n",
       "      <td>5</td>\n",
       "      <td>2019</td>\n",
       "      <td>13</td>\n",
       "    </tr>\n",
       "    <tr>\n",
       "      <th>3</th>\n",
       "      <td>2019-07-28</td>\n",
       "      <td>205880</td>\n",
       "      <td>145</td>\n",
       "      <td>105.0000</td>\n",
       "      <td>105.0000</td>\n",
       "      <td>2.0000</td>\n",
       "      <td>0.0000</td>\n",
       "      <td>30</td>\n",
       "      <td>7</td>\n",
       "      <td>2019</td>\n",
       "      <td>28</td>\n",
       "    </tr>\n",
       "    <tr>\n",
       "      <th>4</th>\n",
       "      <td>2019-09-19</td>\n",
       "      <td>205880</td>\n",
       "      <td>145</td>\n",
       "      <td>105.0000</td>\n",
       "      <td>105.0000</td>\n",
       "      <td>2.0000</td>\n",
       "      <td>0.0000</td>\n",
       "      <td>38</td>\n",
       "      <td>9</td>\n",
       "      <td>2019</td>\n",
       "      <td>19</td>\n",
       "    </tr>\n",
       "  </tbody>\n",
       "</table>\n",
       "</div>"
      ],
      "text/plain": [
       "         DATE  PRODUCT_ID  LOCATION_id  PRICE_REG  PRICE_PROMO  STOCK_QTY  \\\n",
       "0  2019-02-22      205880          145   105.0000      94.5000     2.0000   \n",
       "1  2019-03-16      205880          145   105.0000      89.4700     2.0000   \n",
       "2  2019-05-13      205880          145   105.0000      94.5000     2.0000   \n",
       "3  2019-07-28      205880          145   105.0000     105.0000     2.0000   \n",
       "4  2019-09-19      205880          145   105.0000     105.0000     2.0000   \n",
       "\n",
       "   TGT_QTY  week_number  month_number  year  day  \n",
       "0   0.0000            8             2  2019   22  \n",
       "1   0.0000           11             3  2019   16  \n",
       "2   0.0000           20             5  2019   13  \n",
       "3   0.0000           30             7  2019   28  \n",
       "4   0.0000           38             9  2019   19  "
      ]
     },
     "execution_count": 6,
     "metadata": {},
     "output_type": "execute_result"
    }
   ],
   "source": [
    "df = preprocessing(df)\n",
    "df.head()"
   ]
  },
  {
   "cell_type": "markdown",
   "id": "7d55e795",
   "metadata": {},
   "source": [
    "## Feature creation"
   ]
  },
  {
   "cell_type": "code",
   "execution_count": 7,
   "id": "c9dc679c",
   "metadata": {
    "ExecuteTime": {
     "end_time": "2022-05-15T20:20:04.825741Z",
     "start_time": "2022-05-15T20:20:04.816397Z"
    }
   },
   "outputs": [],
   "source": [
    "def add_holidays(df):\n",
    "    df['Feb23'] = ((df['month_number'] == 2) & (df['day'] == 23)).astype(int)\n",
    "    df['May1'] = ((df['month_number'] == 5) & (df['day'] == 1)).astype(int)\n",
    "    df['Jun12'] = ((df['month_number'] == 6) & (df['day'] == 12)).astype(int)\n",
    "    df['Nov4'] = ((df['month_number'] == 11) & (df['day'] == 4)).astype(int)\n",
    "    df['NY'] = ((df['month_number'] == 12) & (df['day'].isin([24, 25, 26, 27, 28, 29, 30, 31]))).astype(int)\n",
    "    return df\n",
    "\n",
    "def get_weekly_sales(df):\n",
    "    df_sums = df.groupby(by = ['PRODUCT_ID', 'LOCATION_id', 'year','week_number']).sum().reset_index()\n",
    "    df_sums = df_sums[['PRODUCT_ID', 'LOCATION_id', 'year','week_number', 'TGT_QTY']]\n",
    "    return df_sums\n",
    "\n",
    "def get_week_mean_price(df):\n",
    "    df_means = df.groupby(by = ['PRODUCT_ID', 'LOCATION_id', 'year','week_number']).mean().reset_index()\n",
    "    df_means = df_means[['PRODUCT_ID', 'LOCATION_id', 'year','week_number', 'PRICE_REG', 'PRICE_PROMO']]\n",
    "    return df_means\n",
    "    \n",
    "def get_weekly_stocks(df):\n",
    "    weekly_stocks = df.sort_values(by = ['PRODUCT_ID', 'LOCATION_id', 'DATE'])\n",
    "    weekly_stocks = weekly_stocks[~weekly_stocks['STOCK_QTY'].isnull()]\n",
    "    weekly_stocks = weekly_stocks.drop_duplicates(subset = ['PRODUCT_ID', 'LOCATION_id', 'week_number','year'], keep = 'first')\n",
    "    weekly_stocks = weekly_stocks[['PRODUCT_ID', 'LOCATION_id', 'week_number','year', 'STOCK_QTY']]\n",
    "    return weekly_stocks\n",
    "    \n",
    "def get_ohe_holidays(df):\n",
    "    holi_cols = ['Feb23','May1','Jun12', 'Nov4', 'NY']\n",
    "    df = add_holidays(df)\n",
    "    holiweeks = df.groupby(by = ['year', 'week_number']).sum()\n",
    "    holiweeks = holiweeks[holi_cols]\n",
    "    for col in holi_cols:\n",
    "        holiweeks[col] = (holiweeks[col] > 0).astype(int)\n",
    "    holiweeks = holiweeks.reset_index()\n",
    "    return holiweeks\n",
    "\n",
    "def top_3_min_prices(df_means):\n",
    "    agr_cols = ['LOCATION_id', 'year', 'week_number']\n",
    "    to_agr_cols = ['PRICE_REG']\n",
    "    grouped = df_means[agr_cols + to_agr_cols].groupby(by = agr_cols)['PRICE_REG']\n",
    "    df_means['1st_min_price'] = grouped.transform(lambda x: x.nsmallest(1).min())\n",
    "    df_means['2nd_min_price'] = grouped.transform(lambda x: x.nsmallest(2).min())\n",
    "    df_means['3rd_min_price'] = grouped.transform(lambda x: x.nsmallest(3).min())\n",
    "    return df_means\n",
    "    \n",
    "@execution_time\n",
    "def agregate_data(df):\n",
    "    df_sums = get_weekly_sales(df) # Total sales per week\n",
    "    df_means = get_week_mean_price(df) # Mean price per week\n",
    "    weekly_stocks = get_weekly_stocks(df) # Stock per week\n",
    "    holiweeks = get_ohe_holidays(df) # Get OHE holidays\n",
    "    df_means = top_3_min_prices(df_means) # Get 3 min prices of concurents per week \n",
    "    \n",
    "    # Combining agr dfs together\n",
    "    ped_df = df_sums.merge(df_means, how = 'left', on = ['PRODUCT_ID', 'LOCATION_id', 'year','week_number'])\n",
    "    ped_df = ped_df.merge(holiweeks, how = 'left', on = ['year','week_number'])\n",
    "    \n",
    "    ped_df['PRICE_PROMO'] = ped_df['PRICE_PROMO'].fillna(ped_df['PRICE_REG'])\n",
    "    ped_df['promo_discount_%'] = (1 - ped_df['PRICE_PROMO'] / ped_df['PRICE_REG']) * 100 # Discount Calculation\n",
    "    return ped_df\n",
    "    "
   ]
  },
  {
   "cell_type": "code",
   "execution_count": 8,
   "id": "ba9c1a4b",
   "metadata": {
    "ExecuteTime": {
     "end_time": "2022-05-15T20:20:42.983830Z",
     "start_time": "2022-05-15T20:20:04.826988Z"
    }
   },
   "outputs": [
    {
     "name": "stdout",
     "output_type": "stream",
     "text": [
      "Process time: 0.0 min, 37 sec\n",
      "Data size: 1883081 x 16\n",
      "Non Nan Data size: (1440304, 16)\n"
     ]
    },
    {
     "data": {
      "text/html": [
       "<div>\n",
       "<style scoped>\n",
       "    .dataframe tbody tr th:only-of-type {\n",
       "        vertical-align: middle;\n",
       "    }\n",
       "\n",
       "    .dataframe tbody tr th {\n",
       "        vertical-align: top;\n",
       "    }\n",
       "\n",
       "    .dataframe thead th {\n",
       "        text-align: right;\n",
       "    }\n",
       "</style>\n",
       "<table border=\"1\" class=\"dataframe\">\n",
       "  <thead>\n",
       "    <tr style=\"text-align: right;\">\n",
       "      <th></th>\n",
       "      <th>PRODUCT_ID</th>\n",
       "      <th>LOCATION_id</th>\n",
       "      <th>year</th>\n",
       "      <th>week_number</th>\n",
       "      <th>TGT_QTY</th>\n",
       "      <th>PRICE_REG</th>\n",
       "      <th>PRICE_PROMO</th>\n",
       "      <th>1st_min_price</th>\n",
       "      <th>2nd_min_price</th>\n",
       "      <th>3rd_min_price</th>\n",
       "      <th>Feb23</th>\n",
       "      <th>May1</th>\n",
       "      <th>Jun12</th>\n",
       "      <th>Nov4</th>\n",
       "      <th>NY</th>\n",
       "      <th>promo_discount_%</th>\n",
       "    </tr>\n",
       "  </thead>\n",
       "  <tbody>\n",
       "    <tr>\n",
       "      <th>0</th>\n",
       "      <td>370</td>\n",
       "      <td>223</td>\n",
       "      <td>2018</td>\n",
       "      <td>1</td>\n",
       "      <td>0.0000</td>\n",
       "      <td>166.2500</td>\n",
       "      <td>154.9333</td>\n",
       "      <td>0.9913</td>\n",
       "      <td>0.9913</td>\n",
       "      <td>0.9913</td>\n",
       "      <td>0</td>\n",
       "      <td>0</td>\n",
       "      <td>0</td>\n",
       "      <td>0</td>\n",
       "      <td>1</td>\n",
       "      <td>6.8070</td>\n",
       "    </tr>\n",
       "    <tr>\n",
       "      <th>1</th>\n",
       "      <td>370</td>\n",
       "      <td>223</td>\n",
       "      <td>2018</td>\n",
       "      <td>2</td>\n",
       "      <td>0.0000</td>\n",
       "      <td>166.0000</td>\n",
       "      <td>166.0000</td>\n",
       "      <td>1.0400</td>\n",
       "      <td>1.0400</td>\n",
       "      <td>1.0400</td>\n",
       "      <td>0</td>\n",
       "      <td>0</td>\n",
       "      <td>0</td>\n",
       "      <td>0</td>\n",
       "      <td>0</td>\n",
       "      <td>0.0000</td>\n",
       "    </tr>\n",
       "    <tr>\n",
       "      <th>2</th>\n",
       "      <td>370</td>\n",
       "      <td>223</td>\n",
       "      <td>2018</td>\n",
       "      <td>3</td>\n",
       "      <td>1.0000</td>\n",
       "      <td>166.0000</td>\n",
       "      <td>149.4000</td>\n",
       "      <td>1.0400</td>\n",
       "      <td>1.0400</td>\n",
       "      <td>1.0400</td>\n",
       "      <td>0</td>\n",
       "      <td>0</td>\n",
       "      <td>0</td>\n",
       "      <td>0</td>\n",
       "      <td>0</td>\n",
       "      <td>10.0000</td>\n",
       "    </tr>\n",
       "    <tr>\n",
       "      <th>3</th>\n",
       "      <td>370</td>\n",
       "      <td>223</td>\n",
       "      <td>2018</td>\n",
       "      <td>4</td>\n",
       "      <td>0.0000</td>\n",
       "      <td>166.0000</td>\n",
       "      <td>149.4000</td>\n",
       "      <td>1.0400</td>\n",
       "      <td>1.0400</td>\n",
       "      <td>1.0400</td>\n",
       "      <td>0</td>\n",
       "      <td>0</td>\n",
       "      <td>0</td>\n",
       "      <td>0</td>\n",
       "      <td>0</td>\n",
       "      <td>10.0000</td>\n",
       "    </tr>\n",
       "    <tr>\n",
       "      <th>4</th>\n",
       "      <td>370</td>\n",
       "      <td>223</td>\n",
       "      <td>2018</td>\n",
       "      <td>5</td>\n",
       "      <td>0.0000</td>\n",
       "      <td>166.0000</td>\n",
       "      <td>149.4000</td>\n",
       "      <td>0.7600</td>\n",
       "      <td>0.7600</td>\n",
       "      <td>0.7600</td>\n",
       "      <td>0</td>\n",
       "      <td>0</td>\n",
       "      <td>0</td>\n",
       "      <td>0</td>\n",
       "      <td>0</td>\n",
       "      <td>10.0000</td>\n",
       "    </tr>\n",
       "  </tbody>\n",
       "</table>\n",
       "</div>"
      ],
      "text/plain": [
       "   PRODUCT_ID  LOCATION_id  year  week_number  TGT_QTY  PRICE_REG  \\\n",
       "0         370          223  2018            1   0.0000   166.2500   \n",
       "1         370          223  2018            2   0.0000   166.0000   \n",
       "2         370          223  2018            3   1.0000   166.0000   \n",
       "3         370          223  2018            4   0.0000   166.0000   \n",
       "4         370          223  2018            5   0.0000   166.0000   \n",
       "\n",
       "   PRICE_PROMO  1st_min_price  2nd_min_price  3rd_min_price  Feb23  May1  \\\n",
       "0     154.9333         0.9913         0.9913         0.9913      0     0   \n",
       "1     166.0000         1.0400         1.0400         1.0400      0     0   \n",
       "2     149.4000         1.0400         1.0400         1.0400      0     0   \n",
       "3     149.4000         1.0400         1.0400         1.0400      0     0   \n",
       "4     149.4000         0.7600         0.7600         0.7600      0     0   \n",
       "\n",
       "   Jun12  Nov4  NY  promo_discount_%  \n",
       "0      0     0   1            6.8070  \n",
       "1      0     0   0            0.0000  \n",
       "2      0     0   0           10.0000  \n",
       "3      0     0   0           10.0000  \n",
       "4      0     0   0           10.0000  "
      ]
     },
     "execution_count": 8,
     "metadata": {},
     "output_type": "execute_result"
    }
   ],
   "source": [
    "ped_df = agregate_data(df)\n",
    "\n",
    "ped_df = ped_df.dropna().reset_index(drop = True)\n",
    "print('Non Nan Data size:', ped_df.shape)\n",
    "ped_df.head()"
   ]
  },
  {
   "cell_type": "markdown",
   "id": "5c567a47",
   "metadata": {},
   "source": [
    "## Pairs selection\n",
    "- (Shop - product) pairs for experiments"
   ]
  },
  {
   "cell_type": "code",
   "execution_count": 9,
   "id": "8e15288f",
   "metadata": {
    "ExecuteTime": {
     "end_time": "2022-05-15T20:20:42.987732Z",
     "start_time": "2022-05-15T20:20:42.985006Z"
    }
   },
   "outputs": [],
   "source": [
    "def get_pairs_for_experiment(ped_df, quantile = 0.5):\n",
    "    popular_pairs = ped_df.groupby(['PRODUCT_ID', 'LOCATION_id']).size().reset_index(name='counts')\n",
    "    popular_pairs = popular_pairs.sort_values(by='counts', ascending=False).reset_index(drop=True)\n",
    "    print('Pairs with count >', popular_pairs['counts'].quantile(quantile), 'selected')\n",
    "    popular_pairs = popular_pairs[popular_pairs['counts'] > popular_pairs['counts'].quantile(quantile)]\n",
    "    pairs_for_experiment = list(popular_pairs[['PRODUCT_ID', 'LOCATION_id']].to_records(index=False))\n",
    "    popular_pairs = popular_pairs.rename(columns = {'PRODUCT_ID' : 'SKU', 'LOCATION_id' : 'Store'})\n",
    "    print(f'Total pairs selected: {len(pairs_for_experiment)}')\n",
    "    return popular_pairs, pairs_for_experiment"
   ]
  },
  {
   "cell_type": "code",
   "execution_count": 10,
   "id": "95721379",
   "metadata": {
    "ExecuteTime": {
     "end_time": "2022-05-15T20:20:43.427531Z",
     "start_time": "2022-05-15T20:20:42.988472Z"
    }
   },
   "outputs": [
    {
     "name": "stdout",
     "output_type": "stream",
     "text": [
      "Pairs with count > 57.0 selected\n",
      "Total pairs selected: 8962\n"
     ]
    }
   ],
   "source": [
    "popular_pairs_df, pairs_for_experiment = get_pairs_for_experiment(ped_df, quantile = 0.5)"
   ]
  },
  {
   "cell_type": "code",
   "execution_count": 11,
   "id": "fa729c6c",
   "metadata": {
    "ExecuteTime": {
     "end_time": "2022-05-15T20:20:43.440346Z",
     "start_time": "2022-05-15T20:20:43.428685Z"
    }
   },
   "outputs": [
    {
     "data": {
      "text/html": [
       "<div>\n",
       "<style scoped>\n",
       "    .dataframe tbody tr th:only-of-type {\n",
       "        vertical-align: middle;\n",
       "    }\n",
       "\n",
       "    .dataframe tbody tr th {\n",
       "        vertical-align: top;\n",
       "    }\n",
       "\n",
       "    .dataframe thead th {\n",
       "        text-align: right;\n",
       "    }\n",
       "</style>\n",
       "<table border=\"1\" class=\"dataframe\">\n",
       "  <thead>\n",
       "    <tr style=\"text-align: right;\">\n",
       "      <th></th>\n",
       "      <th>PRODUCT_ID</th>\n",
       "      <th>LOCATION_id</th>\n",
       "      <th>year</th>\n",
       "      <th>week_number</th>\n",
       "      <th>TGT_QTY</th>\n",
       "      <th>PRICE_REG</th>\n",
       "      <th>PRICE_PROMO</th>\n",
       "      <th>1st_min_price</th>\n",
       "      <th>2nd_min_price</th>\n",
       "      <th>3rd_min_price</th>\n",
       "      <th>Feb23</th>\n",
       "      <th>May1</th>\n",
       "      <th>Jun12</th>\n",
       "      <th>Nov4</th>\n",
       "      <th>NY</th>\n",
       "      <th>promo_discount_%</th>\n",
       "    </tr>\n",
       "  </thead>\n",
       "  <tbody>\n",
       "    <tr>\n",
       "      <th>0</th>\n",
       "      <td>370</td>\n",
       "      <td>223</td>\n",
       "      <td>2018</td>\n",
       "      <td>1</td>\n",
       "      <td>0.0000</td>\n",
       "      <td>166.2500</td>\n",
       "      <td>154.9333</td>\n",
       "      <td>0.9913</td>\n",
       "      <td>0.9913</td>\n",
       "      <td>0.9913</td>\n",
       "      <td>0</td>\n",
       "      <td>0</td>\n",
       "      <td>0</td>\n",
       "      <td>0</td>\n",
       "      <td>1</td>\n",
       "      <td>6.8070</td>\n",
       "    </tr>\n",
       "    <tr>\n",
       "      <th>1</th>\n",
       "      <td>370</td>\n",
       "      <td>223</td>\n",
       "      <td>2018</td>\n",
       "      <td>2</td>\n",
       "      <td>0.0000</td>\n",
       "      <td>166.0000</td>\n",
       "      <td>166.0000</td>\n",
       "      <td>1.0400</td>\n",
       "      <td>1.0400</td>\n",
       "      <td>1.0400</td>\n",
       "      <td>0</td>\n",
       "      <td>0</td>\n",
       "      <td>0</td>\n",
       "      <td>0</td>\n",
       "      <td>0</td>\n",
       "      <td>0.0000</td>\n",
       "    </tr>\n",
       "    <tr>\n",
       "      <th>2</th>\n",
       "      <td>370</td>\n",
       "      <td>223</td>\n",
       "      <td>2018</td>\n",
       "      <td>3</td>\n",
       "      <td>1.0000</td>\n",
       "      <td>166.0000</td>\n",
       "      <td>149.4000</td>\n",
       "      <td>1.0400</td>\n",
       "      <td>1.0400</td>\n",
       "      <td>1.0400</td>\n",
       "      <td>0</td>\n",
       "      <td>0</td>\n",
       "      <td>0</td>\n",
       "      <td>0</td>\n",
       "      <td>0</td>\n",
       "      <td>10.0000</td>\n",
       "    </tr>\n",
       "    <tr>\n",
       "      <th>3</th>\n",
       "      <td>370</td>\n",
       "      <td>223</td>\n",
       "      <td>2018</td>\n",
       "      <td>4</td>\n",
       "      <td>0.0000</td>\n",
       "      <td>166.0000</td>\n",
       "      <td>149.4000</td>\n",
       "      <td>1.0400</td>\n",
       "      <td>1.0400</td>\n",
       "      <td>1.0400</td>\n",
       "      <td>0</td>\n",
       "      <td>0</td>\n",
       "      <td>0</td>\n",
       "      <td>0</td>\n",
       "      <td>0</td>\n",
       "      <td>10.0000</td>\n",
       "    </tr>\n",
       "    <tr>\n",
       "      <th>4</th>\n",
       "      <td>370</td>\n",
       "      <td>223</td>\n",
       "      <td>2018</td>\n",
       "      <td>5</td>\n",
       "      <td>0.0000</td>\n",
       "      <td>166.0000</td>\n",
       "      <td>149.4000</td>\n",
       "      <td>0.7600</td>\n",
       "      <td>0.7600</td>\n",
       "      <td>0.7600</td>\n",
       "      <td>0</td>\n",
       "      <td>0</td>\n",
       "      <td>0</td>\n",
       "      <td>0</td>\n",
       "      <td>0</td>\n",
       "      <td>10.0000</td>\n",
       "    </tr>\n",
       "    <tr>\n",
       "      <th>...</th>\n",
       "      <td>...</td>\n",
       "      <td>...</td>\n",
       "      <td>...</td>\n",
       "      <td>...</td>\n",
       "      <td>...</td>\n",
       "      <td>...</td>\n",
       "      <td>...</td>\n",
       "      <td>...</td>\n",
       "      <td>...</td>\n",
       "      <td>...</td>\n",
       "      <td>...</td>\n",
       "      <td>...</td>\n",
       "      <td>...</td>\n",
       "      <td>...</td>\n",
       "      <td>...</td>\n",
       "      <td>...</td>\n",
       "    </tr>\n",
       "    <tr>\n",
       "      <th>1440299</th>\n",
       "      <td>5201142</td>\n",
       "      <td>7002</td>\n",
       "      <td>2021</td>\n",
       "      <td>32</td>\n",
       "      <td>0.0000</td>\n",
       "      <td>830.0000</td>\n",
       "      <td>830.0000</td>\n",
       "      <td>1.5400</td>\n",
       "      <td>1.5400</td>\n",
       "      <td>1.5400</td>\n",
       "      <td>0</td>\n",
       "      <td>0</td>\n",
       "      <td>0</td>\n",
       "      <td>0</td>\n",
       "      <td>0</td>\n",
       "      <td>0.0000</td>\n",
       "    </tr>\n",
       "    <tr>\n",
       "      <th>1440300</th>\n",
       "      <td>5300493</td>\n",
       "      <td>51</td>\n",
       "      <td>2021</td>\n",
       "      <td>32</td>\n",
       "      <td>1.0000</td>\n",
       "      <td>83.0000</td>\n",
       "      <td>83.0000</td>\n",
       "      <td>8.0000</td>\n",
       "      <td>8.0000</td>\n",
       "      <td>8.0000</td>\n",
       "      <td>0</td>\n",
       "      <td>0</td>\n",
       "      <td>0</td>\n",
       "      <td>0</td>\n",
       "      <td>0</td>\n",
       "      <td>0.0000</td>\n",
       "    </tr>\n",
       "    <tr>\n",
       "      <th>1440301</th>\n",
       "      <td>5500002</td>\n",
       "      <td>153</td>\n",
       "      <td>2021</td>\n",
       "      <td>31</td>\n",
       "      <td>1.0000</td>\n",
       "      <td>170.0000</td>\n",
       "      <td>170.0000</td>\n",
       "      <td>1.0800</td>\n",
       "      <td>1.0800</td>\n",
       "      <td>1.0800</td>\n",
       "      <td>0</td>\n",
       "      <td>0</td>\n",
       "      <td>0</td>\n",
       "      <td>0</td>\n",
       "      <td>0</td>\n",
       "      <td>0.0000</td>\n",
       "    </tr>\n",
       "    <tr>\n",
       "      <th>1440302</th>\n",
       "      <td>5500002</td>\n",
       "      <td>153</td>\n",
       "      <td>2021</td>\n",
       "      <td>32</td>\n",
       "      <td>0.0000</td>\n",
       "      <td>170.0000</td>\n",
       "      <td>170.0000</td>\n",
       "      <td>1.0800</td>\n",
       "      <td>1.0800</td>\n",
       "      <td>1.0800</td>\n",
       "      <td>0</td>\n",
       "      <td>0</td>\n",
       "      <td>0</td>\n",
       "      <td>0</td>\n",
       "      <td>0</td>\n",
       "      <td>0.0000</td>\n",
       "    </tr>\n",
       "    <tr>\n",
       "      <th>1440303</th>\n",
       "      <td>5600176</td>\n",
       "      <td>48</td>\n",
       "      <td>2021</td>\n",
       "      <td>32</td>\n",
       "      <td>1.0000</td>\n",
       "      <td>360.0000</td>\n",
       "      <td>360.0000</td>\n",
       "      <td>3.9000</td>\n",
       "      <td>3.9000</td>\n",
       "      <td>3.9000</td>\n",
       "      <td>0</td>\n",
       "      <td>0</td>\n",
       "      <td>0</td>\n",
       "      <td>0</td>\n",
       "      <td>0</td>\n",
       "      <td>0.0000</td>\n",
       "    </tr>\n",
       "  </tbody>\n",
       "</table>\n",
       "<p>1440304 rows × 16 columns</p>\n",
       "</div>"
      ],
      "text/plain": [
       "         PRODUCT_ID  LOCATION_id  year  week_number  TGT_QTY  PRICE_REG  \\\n",
       "0               370          223  2018            1   0.0000   166.2500   \n",
       "1               370          223  2018            2   0.0000   166.0000   \n",
       "2               370          223  2018            3   1.0000   166.0000   \n",
       "3               370          223  2018            4   0.0000   166.0000   \n",
       "4               370          223  2018            5   0.0000   166.0000   \n",
       "...             ...          ...   ...          ...      ...        ...   \n",
       "1440299     5201142         7002  2021           32   0.0000   830.0000   \n",
       "1440300     5300493           51  2021           32   1.0000    83.0000   \n",
       "1440301     5500002          153  2021           31   1.0000   170.0000   \n",
       "1440302     5500002          153  2021           32   0.0000   170.0000   \n",
       "1440303     5600176           48  2021           32   1.0000   360.0000   \n",
       "\n",
       "         PRICE_PROMO  1st_min_price  2nd_min_price  3rd_min_price  Feb23  \\\n",
       "0           154.9333         0.9913         0.9913         0.9913      0   \n",
       "1           166.0000         1.0400         1.0400         1.0400      0   \n",
       "2           149.4000         1.0400         1.0400         1.0400      0   \n",
       "3           149.4000         1.0400         1.0400         1.0400      0   \n",
       "4           149.4000         0.7600         0.7600         0.7600      0   \n",
       "...              ...            ...            ...            ...    ...   \n",
       "1440299     830.0000         1.5400         1.5400         1.5400      0   \n",
       "1440300      83.0000         8.0000         8.0000         8.0000      0   \n",
       "1440301     170.0000         1.0800         1.0800         1.0800      0   \n",
       "1440302     170.0000         1.0800         1.0800         1.0800      0   \n",
       "1440303     360.0000         3.9000         3.9000         3.9000      0   \n",
       "\n",
       "         May1  Jun12  Nov4  NY  promo_discount_%  \n",
       "0           0      0     0   1            6.8070  \n",
       "1           0      0     0   0            0.0000  \n",
       "2           0      0     0   0           10.0000  \n",
       "3           0      0     0   0           10.0000  \n",
       "4           0      0     0   0           10.0000  \n",
       "...       ...    ...   ...  ..               ...  \n",
       "1440299     0      0     0   0            0.0000  \n",
       "1440300     0      0     0   0            0.0000  \n",
       "1440301     0      0     0   0            0.0000  \n",
       "1440302     0      0     0   0            0.0000  \n",
       "1440303     0      0     0   0            0.0000  \n",
       "\n",
       "[1440304 rows x 16 columns]"
      ]
     },
     "execution_count": 11,
     "metadata": {},
     "output_type": "execute_result"
    }
   ],
   "source": [
    "ped_df"
   ]
  },
  {
   "cell_type": "markdown",
   "id": "2c5b92b4",
   "metadata": {},
   "source": [
    "## Log-Log regression"
   ]
  },
  {
   "cell_type": "code",
   "execution_count": 12,
   "id": "79853786",
   "metadata": {
    "ExecuteTime": {
     "end_time": "2022-05-15T20:20:43.449181Z",
     "start_time": "2022-05-15T20:20:43.441196Z"
    }
   },
   "outputs": [],
   "source": [
    "def transform(x, ttype):\n",
    "    '''\n",
    "    Accepts vector and performs transformation on it based on ttype\n",
    "    '''\n",
    "    if ttype == 'log':\n",
    "        return np.log1p(x)\n",
    "    \n",
    "    return np.array(x)\n",
    "\n",
    "def coef(model):\n",
    "    \"\"\"\n",
    "    return regression coefficient of model\n",
    "    \"\"\"\n",
    "    return model.params[1] if len(model.params) > 1 else model.params[0]\n",
    "\n",
    "def pvalue(model):\n",
    "    \"\"\"\n",
    "    return regression coefficient's t-test p-value of model\n",
    "    \"\"\"\n",
    "    return model.pvalues[1] if len(model.pvalues) > 1 else model.pvalues[0]\n",
    "\n",
    "def elasticity(X, y, model, model_type):\n",
    "    '''\n",
    "    Computes elasticity of model based on X, y, model itself and model's type\n",
    "    '''\n",
    "    if model_type == 'lin-lin':\n",
    "        return coef(model) * np.mean(X) / np.mean(y)\n",
    "    elif model_type == 'log-lin':\n",
    "        return coef(model) * np.mean(X)\n",
    "    elif model_type == 'log-log':\n",
    "        return coef(model)\n",
    "    \n",
    "def PEDmodel(X, y, model_type='lin-lin'):\n",
    "    '''\n",
    "    Makes PED model based on input data X, y and model type\n",
    "    '''\n",
    "    _types = model_type.split('-')\n",
    "    \n",
    "    act_x = transform(X, _types[1])\n",
    "    act_x = sm.add_constant(act_x)\n",
    "    \n",
    "    act_y = transform(y, _types[0])\n",
    "    return sm.OLS(act_y, act_x).fit()\n",
    "\n",
    "def get_model_stats(X, y, model, model_type):\n",
    "    '''\n",
    "    returns model's statistics\n",
    "        regression coefficient,\n",
    "        R-squared,\n",
    "        T-test p-value,\n",
    "        elasticity\n",
    "    '''\n",
    "    elas = elasticity(X, y, model, model_type)\n",
    "    return coef(model), model.rsquared, pvalue(model), elas\n",
    "\n",
    "def GeneratePEDModels(dataset, model_type):\n",
    "    col_list = ['PRICE_REG', 'Feb23','May1','Jun12','Nov4','NY']\n",
    "    sku_id, store_id, elas, qty, ttpvalue = [], [], [], [], []\n",
    "    iter_count = 0\n",
    "    for good_id, shop_id in tqdm(pairs_for_experiment):\n",
    "        data = dataset[(dataset['LOCATION_id'] == shop_id) & (dataset['PRODUCT_ID'] == good_id)]\n",
    "        try: # TODO (Understand error)\n",
    "            model = PEDmodel(data[col_list], data['TGT_QTY'], model_type)\n",
    "            c, r2, tp, e = get_model_stats(data[col_list], data['TGT_QTY'], model, model_type)\n",
    "            sku_id.append(good_id)\n",
    "            store_id.append(shop_id)\n",
    "            elas.append(e)\n",
    "            ttpvalue.append(tp)\n",
    "            qty.append(data['TGT_QTY'].sum() / data.shape[0])\n",
    "        except:\n",
    "            continue\n",
    "    \n",
    "    return pd.DataFrame({\n",
    "        'SKU': sku_id,\n",
    "        'Store': store_id,\n",
    "        'Elasticity': elas,\n",
    "        'Qty': qty,\n",
    "        'P_value': ttpvalue\n",
    "    })\n",
    "\n",
    "def get_robust_pairs(elast_df):\n",
    "    ok_elasts = len(elast_df[(elast_df['Elasticity'] > -10) & (elast_df['Elasticity'] < 0)])\n",
    "    ok_pvals = len(elast_df[elast_df['P_value'] < 0.05])\n",
    "    robust_elasts = elast_df[(elast_df['Elasticity'] > -10) & \n",
    "                             (elast_df['Elasticity'] < 0) & \n",
    "                             (elast_df['P_value'] < 0.05)]\n",
    "    \n",
    "    print('# Normal elasticities:', ok_elasts)\n",
    "    print('# Normal p-values:', ok_pvals)\n",
    "    print('# Robust elasticities:', len(robust_elasts))\n",
    "    print('% Robust elasticities:', np.round((len(robust_elasts) / len(elast_df)) * 100, 2))\n",
    "    return robust_elasts"
   ]
  },
  {
   "cell_type": "code",
   "execution_count": 13,
   "id": "a52ab100",
   "metadata": {
    "ExecuteTime": {
     "end_time": "2022-05-15T20:21:37.159995Z",
     "start_time": "2022-05-15T20:20:43.449926Z"
    }
   },
   "outputs": [
    {
     "name": "stderr",
     "output_type": "stream",
     "text": [
      "100%|██████████| 8962/8962 [00:53<00:00, 166.91it/s]\n"
     ]
    },
    {
     "data": {
      "text/html": [
       "<div>\n",
       "<style scoped>\n",
       "    .dataframe tbody tr th:only-of-type {\n",
       "        vertical-align: middle;\n",
       "    }\n",
       "\n",
       "    .dataframe tbody tr th {\n",
       "        vertical-align: top;\n",
       "    }\n",
       "\n",
       "    .dataframe thead th {\n",
       "        text-align: right;\n",
       "    }\n",
       "</style>\n",
       "<table border=\"1\" class=\"dataframe\">\n",
       "  <thead>\n",
       "    <tr style=\"text-align: right;\">\n",
       "      <th></th>\n",
       "      <th>SKU</th>\n",
       "      <th>Store</th>\n",
       "      <th>Elasticity</th>\n",
       "      <th>Qty</th>\n",
       "      <th>P_value</th>\n",
       "    </tr>\n",
       "  </thead>\n",
       "  <tbody>\n",
       "    <tr>\n",
       "      <th>0</th>\n",
       "      <td>370</td>\n",
       "      <td>223</td>\n",
       "      <td>-0.2740</td>\n",
       "      <td>0.0421</td>\n",
       "      <td>0.1692</td>\n",
       "    </tr>\n",
       "    <tr>\n",
       "      <th>1</th>\n",
       "      <td>181916</td>\n",
       "      <td>29</td>\n",
       "      <td>-0.5868</td>\n",
       "      <td>0.4000</td>\n",
       "      <td>0.0322</td>\n",
       "    </tr>\n",
       "    <tr>\n",
       "      <th>2</th>\n",
       "      <td>51786</td>\n",
       "      <td>148</td>\n",
       "      <td>0.0800</td>\n",
       "      <td>0.1263</td>\n",
       "      <td>0.6385</td>\n",
       "    </tr>\n",
       "    <tr>\n",
       "      <th>3</th>\n",
       "      <td>181621</td>\n",
       "      <td>22</td>\n",
       "      <td>-0.4174</td>\n",
       "      <td>0.4632</td>\n",
       "      <td>0.2326</td>\n",
       "    </tr>\n",
       "    <tr>\n",
       "      <th>4</th>\n",
       "      <td>51893</td>\n",
       "      <td>128</td>\n",
       "      <td>0.7414</td>\n",
       "      <td>0.4263</td>\n",
       "      <td>0.0135</td>\n",
       "    </tr>\n",
       "    <tr>\n",
       "      <th>...</th>\n",
       "      <td>...</td>\n",
       "      <td>...</td>\n",
       "      <td>...</td>\n",
       "      <td>...</td>\n",
       "      <td>...</td>\n",
       "    </tr>\n",
       "    <tr>\n",
       "      <th>8957</th>\n",
       "      <td>82619</td>\n",
       "      <td>194</td>\n",
       "      <td>3.1876</td>\n",
       "      <td>0.2759</td>\n",
       "      <td>0.0945</td>\n",
       "    </tr>\n",
       "    <tr>\n",
       "      <th>8958</th>\n",
       "      <td>137895</td>\n",
       "      <td>250</td>\n",
       "      <td>-0.6142</td>\n",
       "      <td>2.3793</td>\n",
       "      <td>0.5993</td>\n",
       "    </tr>\n",
       "    <tr>\n",
       "      <th>8959</th>\n",
       "      <td>5426</td>\n",
       "      <td>248</td>\n",
       "      <td>-0.0434</td>\n",
       "      <td>0.0862</td>\n",
       "      <td>0.6740</td>\n",
       "    </tr>\n",
       "    <tr>\n",
       "      <th>8960</th>\n",
       "      <td>53688</td>\n",
       "      <td>229</td>\n",
       "      <td>-0.2519</td>\n",
       "      <td>0.2586</td>\n",
       "      <td>0.3171</td>\n",
       "    </tr>\n",
       "    <tr>\n",
       "      <th>8961</th>\n",
       "      <td>43655</td>\n",
       "      <td>229</td>\n",
       "      <td>-0.0497</td>\n",
       "      <td>0.0517</td>\n",
       "      <td>0.8477</td>\n",
       "    </tr>\n",
       "  </tbody>\n",
       "</table>\n",
       "<p>8962 rows × 5 columns</p>\n",
       "</div>"
      ],
      "text/plain": [
       "         SKU  Store  Elasticity    Qty  P_value\n",
       "0        370    223     -0.2740 0.0421   0.1692\n",
       "1     181916     29     -0.5868 0.4000   0.0322\n",
       "2      51786    148      0.0800 0.1263   0.6385\n",
       "3     181621     22     -0.4174 0.4632   0.2326\n",
       "4      51893    128      0.7414 0.4263   0.0135\n",
       "...      ...    ...         ...    ...      ...\n",
       "8957   82619    194      3.1876 0.2759   0.0945\n",
       "8958  137895    250     -0.6142 2.3793   0.5993\n",
       "8959    5426    248     -0.0434 0.0862   0.6740\n",
       "8960   53688    229     -0.2519 0.2586   0.3171\n",
       "8961   43655    229     -0.0497 0.0517   0.8477\n",
       "\n",
       "[8962 rows x 5 columns]"
      ]
     },
     "execution_count": 13,
     "metadata": {},
     "output_type": "execute_result"
    }
   ],
   "source": [
    "elasts = GeneratePEDModels(ped_df, model_type = 'log-log')\n",
    "elasts"
   ]
  },
  {
   "cell_type": "code",
   "execution_count": 14,
   "id": "db24f62f",
   "metadata": {
    "ExecuteTime": {
     "end_time": "2022-05-15T20:21:37.165822Z",
     "start_time": "2022-05-15T20:21:37.160942Z"
    }
   },
   "outputs": [
    {
     "name": "stdout",
     "output_type": "stream",
     "text": [
      "# Normal elasticities: 4963\n",
      "# Normal p-values: 1896\n",
      "# Robust elasticities: 1021\n",
      "% Robust elasticities: 11.39\n"
     ]
    }
   ],
   "source": [
    "robust_elasts = get_robust_pairs(elasts)\n",
    "robust_elasts = robust_elasts.reset_index()\n",
    "elasts = elasts.reset_index()"
   ]
  },
  {
   "cell_type": "code",
   "execution_count": 15,
   "id": "d47042b8",
   "metadata": {
    "ExecuteTime": {
     "end_time": "2022-05-15T20:21:37.174047Z",
     "start_time": "2022-05-15T20:21:37.166581Z"
    }
   },
   "outputs": [
    {
     "data": {
      "text/html": [
       "<div>\n",
       "<style scoped>\n",
       "    .dataframe tbody tr th:only-of-type {\n",
       "        vertical-align: middle;\n",
       "    }\n",
       "\n",
       "    .dataframe tbody tr th {\n",
       "        vertical-align: top;\n",
       "    }\n",
       "\n",
       "    .dataframe thead th {\n",
       "        text-align: right;\n",
       "    }\n",
       "</style>\n",
       "<table border=\"1\" class=\"dataframe\">\n",
       "  <thead>\n",
       "    <tr style=\"text-align: right;\">\n",
       "      <th></th>\n",
       "      <th>SKU</th>\n",
       "      <th>Store</th>\n",
       "      <th>Elasticity</th>\n",
       "      <th>Qty</th>\n",
       "      <th>P_value</th>\n",
       "    </tr>\n",
       "  </thead>\n",
       "  <tbody>\n",
       "    <tr>\n",
       "      <th>0</th>\n",
       "      <td>370</td>\n",
       "      <td>223</td>\n",
       "      <td>-0.2740</td>\n",
       "      <td>0.0421</td>\n",
       "      <td>0.1692</td>\n",
       "    </tr>\n",
       "    <tr>\n",
       "      <th>2</th>\n",
       "      <td>51786</td>\n",
       "      <td>148</td>\n",
       "      <td>0.0800</td>\n",
       "      <td>0.1263</td>\n",
       "      <td>0.6385</td>\n",
       "    </tr>\n",
       "    <tr>\n",
       "      <th>3</th>\n",
       "      <td>181621</td>\n",
       "      <td>22</td>\n",
       "      <td>-0.4174</td>\n",
       "      <td>0.4632</td>\n",
       "      <td>0.2326</td>\n",
       "    </tr>\n",
       "    <tr>\n",
       "      <th>4</th>\n",
       "      <td>51893</td>\n",
       "      <td>128</td>\n",
       "      <td>0.7414</td>\n",
       "      <td>0.4263</td>\n",
       "      <td>0.0135</td>\n",
       "    </tr>\n",
       "    <tr>\n",
       "      <th>5</th>\n",
       "      <td>51939</td>\n",
       "      <td>154</td>\n",
       "      <td>-0.0250</td>\n",
       "      <td>0.0526</td>\n",
       "      <td>0.6303</td>\n",
       "    </tr>\n",
       "    <tr>\n",
       "      <th>...</th>\n",
       "      <td>...</td>\n",
       "      <td>...</td>\n",
       "      <td>...</td>\n",
       "      <td>...</td>\n",
       "      <td>...</td>\n",
       "    </tr>\n",
       "    <tr>\n",
       "      <th>8957</th>\n",
       "      <td>82619</td>\n",
       "      <td>194</td>\n",
       "      <td>3.1876</td>\n",
       "      <td>0.2759</td>\n",
       "      <td>0.0945</td>\n",
       "    </tr>\n",
       "    <tr>\n",
       "      <th>8958</th>\n",
       "      <td>137895</td>\n",
       "      <td>250</td>\n",
       "      <td>-0.6142</td>\n",
       "      <td>2.3793</td>\n",
       "      <td>0.5993</td>\n",
       "    </tr>\n",
       "    <tr>\n",
       "      <th>8959</th>\n",
       "      <td>5426</td>\n",
       "      <td>248</td>\n",
       "      <td>-0.0434</td>\n",
       "      <td>0.0862</td>\n",
       "      <td>0.6740</td>\n",
       "    </tr>\n",
       "    <tr>\n",
       "      <th>8960</th>\n",
       "      <td>53688</td>\n",
       "      <td>229</td>\n",
       "      <td>-0.2519</td>\n",
       "      <td>0.2586</td>\n",
       "      <td>0.3171</td>\n",
       "    </tr>\n",
       "    <tr>\n",
       "      <th>8961</th>\n",
       "      <td>43655</td>\n",
       "      <td>229</td>\n",
       "      <td>-0.0497</td>\n",
       "      <td>0.0517</td>\n",
       "      <td>0.8477</td>\n",
       "    </tr>\n",
       "  </tbody>\n",
       "</table>\n",
       "<p>7941 rows × 5 columns</p>\n",
       "</div>"
      ],
      "text/plain": [
       "         SKU  Store  Elasticity    Qty  P_value\n",
       "0        370    223     -0.2740 0.0421   0.1692\n",
       "2      51786    148      0.0800 0.1263   0.6385\n",
       "3     181621     22     -0.4174 0.4632   0.2326\n",
       "4      51893    128      0.7414 0.4263   0.0135\n",
       "5      51939    154     -0.0250 0.0526   0.6303\n",
       "...      ...    ...         ...    ...      ...\n",
       "8957   82619    194      3.1876 0.2759   0.0945\n",
       "8958  137895    250     -0.6142 2.3793   0.5993\n",
       "8959    5426    248     -0.0434 0.0862   0.6740\n",
       "8960   53688    229     -0.2519 0.2586   0.3171\n",
       "8961   43655    229     -0.0497 0.0517   0.8477\n",
       "\n",
       "[7941 rows x 5 columns]"
      ]
     },
     "execution_count": 15,
     "metadata": {},
     "output_type": "execute_result"
    }
   ],
   "source": [
    "non_robust_elasts = elasts[~elasts['index'].isin(robust_elasts['index'].to_list())]\n",
    "del non_robust_elasts['index']\n",
    "non_robust_elasts"
   ]
  },
  {
   "cell_type": "code",
   "execution_count": 16,
   "id": "41527647",
   "metadata": {
    "ExecuteTime": {
     "end_time": "2022-05-15T20:21:37.176866Z",
     "start_time": "2022-05-15T20:21:37.174730Z"
    }
   },
   "outputs": [
    {
     "data": {
      "text/plain": [
       "4966"
      ]
     },
     "execution_count": 16,
     "metadata": {},
     "output_type": "execute_result"
    }
   ],
   "source": [
    "problematic_skus = non_robust_elasts['SKU'].unique()\n",
    "len(problematic_skus)"
   ]
  },
  {
   "cell_type": "markdown",
   "id": "57c9ddf2",
   "metadata": {},
   "source": [
    "## Elasticity on products"
   ]
  },
  {
   "cell_type": "code",
   "execution_count": 17,
   "id": "5c2c65c4",
   "metadata": {
    "ExecuteTime": {
     "end_time": "2022-05-15T20:21:37.311533Z",
     "start_time": "2022-05-15T20:21:37.177600Z"
    }
   },
   "outputs": [
    {
     "data": {
      "text/html": [
       "<div>\n",
       "<style scoped>\n",
       "    .dataframe tbody tr th:only-of-type {\n",
       "        vertical-align: middle;\n",
       "    }\n",
       "\n",
       "    .dataframe tbody tr th {\n",
       "        vertical-align: top;\n",
       "    }\n",
       "\n",
       "    .dataframe thead th {\n",
       "        text-align: right;\n",
       "    }\n",
       "</style>\n",
       "<table border=\"1\" class=\"dataframe\">\n",
       "  <thead>\n",
       "    <tr style=\"text-align: right;\">\n",
       "      <th></th>\n",
       "      <th>PRODUCT_ID</th>\n",
       "      <th>year</th>\n",
       "      <th>week_number</th>\n",
       "      <th>TGT_QTY</th>\n",
       "      <th>PRICE_REG</th>\n",
       "      <th>PRICE_PROMO</th>\n",
       "      <th>1st_min_price</th>\n",
       "      <th>2nd_min_price</th>\n",
       "      <th>3rd_min_price</th>\n",
       "      <th>Feb23</th>\n",
       "      <th>May1</th>\n",
       "      <th>Jun12</th>\n",
       "      <th>Nov4</th>\n",
       "      <th>NY</th>\n",
       "      <th>promo_discount_%</th>\n",
       "    </tr>\n",
       "  </thead>\n",
       "  <tbody>\n",
       "    <tr>\n",
       "      <th>0</th>\n",
       "      <td>370</td>\n",
       "      <td>2018</td>\n",
       "      <td>1</td>\n",
       "      <td>0.0000</td>\n",
       "      <td>166.2500</td>\n",
       "      <td>154.9333</td>\n",
       "      <td>0.9913</td>\n",
       "      <td>0.9913</td>\n",
       "      <td>0.9913</td>\n",
       "      <td>0</td>\n",
       "      <td>0</td>\n",
       "      <td>0</td>\n",
       "      <td>0</td>\n",
       "      <td>1</td>\n",
       "      <td>6.8070</td>\n",
       "    </tr>\n",
       "    <tr>\n",
       "      <th>1</th>\n",
       "      <td>370</td>\n",
       "      <td>2018</td>\n",
       "      <td>2</td>\n",
       "      <td>0.0000</td>\n",
       "      <td>166.0000</td>\n",
       "      <td>166.0000</td>\n",
       "      <td>1.0400</td>\n",
       "      <td>1.0400</td>\n",
       "      <td>1.0400</td>\n",
       "      <td>0</td>\n",
       "      <td>0</td>\n",
       "      <td>0</td>\n",
       "      <td>0</td>\n",
       "      <td>0</td>\n",
       "      <td>0.0000</td>\n",
       "    </tr>\n",
       "    <tr>\n",
       "      <th>2</th>\n",
       "      <td>370</td>\n",
       "      <td>2018</td>\n",
       "      <td>3</td>\n",
       "      <td>1.0000</td>\n",
       "      <td>166.0000</td>\n",
       "      <td>149.4000</td>\n",
       "      <td>1.0400</td>\n",
       "      <td>1.0400</td>\n",
       "      <td>1.0400</td>\n",
       "      <td>0</td>\n",
       "      <td>0</td>\n",
       "      <td>0</td>\n",
       "      <td>0</td>\n",
       "      <td>0</td>\n",
       "      <td>10.0000</td>\n",
       "    </tr>\n",
       "    <tr>\n",
       "      <th>3</th>\n",
       "      <td>370</td>\n",
       "      <td>2018</td>\n",
       "      <td>4</td>\n",
       "      <td>0.0000</td>\n",
       "      <td>166.0000</td>\n",
       "      <td>149.4000</td>\n",
       "      <td>1.0400</td>\n",
       "      <td>1.0400</td>\n",
       "      <td>1.0400</td>\n",
       "      <td>0</td>\n",
       "      <td>0</td>\n",
       "      <td>0</td>\n",
       "      <td>0</td>\n",
       "      <td>0</td>\n",
       "      <td>10.0000</td>\n",
       "    </tr>\n",
       "    <tr>\n",
       "      <th>4</th>\n",
       "      <td>370</td>\n",
       "      <td>2018</td>\n",
       "      <td>5</td>\n",
       "      <td>0.0000</td>\n",
       "      <td>166.0000</td>\n",
       "      <td>149.4000</td>\n",
       "      <td>0.7600</td>\n",
       "      <td>0.7600</td>\n",
       "      <td>0.7600</td>\n",
       "      <td>0</td>\n",
       "      <td>0</td>\n",
       "      <td>0</td>\n",
       "      <td>0</td>\n",
       "      <td>0</td>\n",
       "      <td>10.0000</td>\n",
       "    </tr>\n",
       "  </tbody>\n",
       "</table>\n",
       "</div>"
      ],
      "text/plain": [
       "   PRODUCT_ID  year  week_number  TGT_QTY  PRICE_REG  PRICE_PROMO  \\\n",
       "0         370  2018            1   0.0000   166.2500     154.9333   \n",
       "1         370  2018            2   0.0000   166.0000     166.0000   \n",
       "2         370  2018            3   1.0000   166.0000     149.4000   \n",
       "3         370  2018            4   0.0000   166.0000     149.4000   \n",
       "4         370  2018            5   0.0000   166.0000     149.4000   \n",
       "\n",
       "   1st_min_price  2nd_min_price  3rd_min_price  Feb23  May1  Jun12  Nov4  NY  \\\n",
       "0         0.9913         0.9913         0.9913      0     0      0     0   1   \n",
       "1         1.0400         1.0400         1.0400      0     0      0     0   0   \n",
       "2         1.0400         1.0400         1.0400      0     0      0     0   0   \n",
       "3         1.0400         1.0400         1.0400      0     0      0     0   0   \n",
       "4         0.7600         0.7600         0.7600      0     0      0     0   0   \n",
       "\n",
       "   promo_discount_%  \n",
       "0            6.8070  \n",
       "1            0.0000  \n",
       "2           10.0000  \n",
       "3           10.0000  \n",
       "4           10.0000  "
      ]
     },
     "execution_count": 17,
     "metadata": {},
     "output_type": "execute_result"
    }
   ],
   "source": [
    "ped_df2 = ped_df.copy()\n",
    "ped_df2 = ped_df2[ped_df2['PRODUCT_ID'].isin(problematic_skus)].drop(columns = ['LOCATION_id'])\n",
    "ped_df2.head()"
   ]
  },
  {
   "cell_type": "code",
   "execution_count": 18,
   "id": "9dd9a82a",
   "metadata": {
    "ExecuteTime": {
     "end_time": "2022-05-15T20:21:37.315521Z",
     "start_time": "2022-05-15T20:21:37.312408Z"
    }
   },
   "outputs": [],
   "source": [
    "def GeneratePEDModels_sku(dataset, model_type):\n",
    "    col_list = ['PRICE_REG', 'Feb23','May1','Jun12','Nov4','NY']\n",
    "    sku_id, elas, qty, ttpvalue = [], [], [], []\n",
    "    iter_count = 0\n",
    "    for good_id in tqdm(dataset['PRODUCT_ID'].unique()):\n",
    "        data = dataset[dataset['PRODUCT_ID'] == good_id]\n",
    "        model = PEDmodel(data[col_list], data['TGT_QTY'], model_type)\n",
    "        c, r2, tp, e = get_model_stats(data[col_list], data['TGT_QTY'], model, model_type)\n",
    "        sku_id.append(good_id)\n",
    "        elas.append(e)\n",
    "        ttpvalue.append(tp)\n",
    "        qty.append(data['TGT_QTY'].sum() / data.shape[0])\n",
    "    \n",
    "    return pd.DataFrame({\n",
    "        'SKU': sku_id,\n",
    "        'Elasticity': elas,\n",
    "        'Qty': qty,\n",
    "        'P_value': ttpvalue\n",
    "    })"
   ]
  },
  {
   "cell_type": "code",
   "execution_count": 19,
   "id": "3edf7f62",
   "metadata": {
    "ExecuteTime": {
     "end_time": "2022-05-15T20:21:58.613447Z",
     "start_time": "2022-05-15T20:21:37.316237Z"
    }
   },
   "outputs": [
    {
     "name": "stderr",
     "output_type": "stream",
     "text": [
      "100%|██████████| 4966/4966 [00:21<00:00, 233.33it/s]"
     ]
    },
    {
     "name": "stdout",
     "output_type": "stream",
     "text": [
      "# Normal elasticities: 2601\n",
      "# Normal p-values: 1442\n",
      "# Robust elasticities: 697\n",
      "% Robust elasticities: 14.04\n"
     ]
    },
    {
     "name": "stderr",
     "output_type": "stream",
     "text": [
      "\n"
     ]
    }
   ],
   "source": [
    "new_elasts = GeneratePEDModels_sku(ped_df2, model_type = 'log-log')\n",
    "new_robust_elasts = get_robust_pairs(new_elasts)"
   ]
  },
  {
   "cell_type": "markdown",
   "id": "5995a266",
   "metadata": {},
   "source": [
    "## Polling on all data (for metrics)"
   ]
  },
  {
   "cell_type": "code",
   "execution_count": 20,
   "id": "528b00c6",
   "metadata": {
    "ExecuteTime": {
     "end_time": "2022-05-15T20:22:30.913282Z",
     "start_time": "2022-05-15T20:21:58.614342Z"
    }
   },
   "outputs": [
    {
     "name": "stderr",
     "output_type": "stream",
     "text": [
      "100%|██████████| 7354/7354 [00:32<00:00, 228.01it/s]"
     ]
    },
    {
     "name": "stdout",
     "output_type": "stream",
     "text": [
      "# Normal elasticities: 3679\n",
      "# Normal p-values: 1962\n",
      "# Robust elasticities: 1052\n",
      "% Robust elasticities: 14.31\n"
     ]
    },
    {
     "name": "stderr",
     "output_type": "stream",
     "text": [
      "\n"
     ]
    }
   ],
   "source": [
    "ped_df3 = ped_df.copy()\n",
    "new_elasts = GeneratePEDModels_sku(ped_df3, model_type = 'log-log')\n",
    "new_robust_elasts = get_robust_pairs(new_elasts)\n",
    "new_robust_elasts = new_robust_elasts.rename(columns = {'Elasticity': 'Elasticity_pooling'})\n",
    "\n",
    "check = pd.read_csv('new_robust.csv')\n",
    "check = check.rename(columns = {'Elasticity': 'Elasticity_xgb'})\n",
    "check = check.merge(new_robust_elasts[['SKU', 'Elasticity_pooling']], how = 'left', on = ['SKU']).fillna(0)"
   ]
  },
  {
   "cell_type": "markdown",
   "id": "5d60df52",
   "metadata": {
    "ExecuteTime": {
     "end_time": "2022-05-15T18:14:26.047211Z",
     "start_time": "2022-05-15T18:14:26.044483Z"
    }
   },
   "source": [
    "## Final Metrics"
   ]
  },
  {
   "cell_type": "code",
   "execution_count": 22,
   "id": "37144bca",
   "metadata": {
    "ExecuteTime": {
     "end_time": "2022-05-15T20:22:50.076914Z",
     "start_time": "2022-05-15T20:22:50.065856Z"
    }
   },
   "outputs": [],
   "source": [
    "def weighted_absolute_percentage_error(y_true, y_hat):\n",
    "    wape = np.sum(np.abs(y_true - y_hat)) / np.sum(np.abs(y_true))\n",
    "    return wape\n",
    "\n",
    "def get_metrics(y_true, y_hat, method, gain):\n",
    "    rmse = np.round(np.sqrt(mean_squared_error(y_true, y_hat)), 3)\n",
    "    mae = np.round(mean_absolute_error(y_true, y_hat), 3)\n",
    "    mape = np.round(mean_absolute_percentage_error(y_true, y_hat), 3)\n",
    "    wape_ = np.round(weighted_absolute_percentage_error(y_true, y_hat), 3)\n",
    "    metrics = pd.DataFrame(data = {'Metric' : ['RMSE', 'MAE', 'MAPE', 'WAPE'],\n",
    "                                   'Score' : [rmse, mae, mape, wape_],\n",
    "                                   'Method' : method,\n",
    "                                   'Gain' : gain})\n",
    "    return metrics\n",
    "\n",
    "pooling_metrics = get_metrics(check['Elasticity_before'], check['Elasticity_pooling'], 'Pooling', 14.04)\n",
    "boosting_metrics = get_metrics(check['Elasticity_before'], check['Elasticity_xgb'], 'XGB Segmentation', 72.32)\n",
    "recent_research_metrics = pd.DataFrame(data = {'Metric' : ['RMSE', 'MAE', 'MAPE', 'WAPE'],\n",
    "                                               'Score' : [1.77, 1.43, np.nan, 0.79],\n",
    "                                               'Method' : 'TSNE',\n",
    "                                               'Gain' : 62.76})\n"
   ]
  },
  {
   "cell_type": "code",
   "execution_count": 23,
   "id": "9e957195",
   "metadata": {
    "ExecuteTime": {
     "end_time": "2022-05-15T20:22:50.924741Z",
     "start_time": "2022-05-15T20:22:50.918353Z"
    }
   },
   "outputs": [
    {
     "data": {
      "text/html": [
       "<div>\n",
       "<style scoped>\n",
       "    .dataframe tbody tr th:only-of-type {\n",
       "        vertical-align: middle;\n",
       "    }\n",
       "\n",
       "    .dataframe tbody tr th {\n",
       "        vertical-align: top;\n",
       "    }\n",
       "\n",
       "    .dataframe thead th {\n",
       "        text-align: right;\n",
       "    }\n",
       "</style>\n",
       "<table border=\"1\" class=\"dataframe\">\n",
       "  <thead>\n",
       "    <tr style=\"text-align: right;\">\n",
       "      <th></th>\n",
       "      <th>Metric</th>\n",
       "      <th>Score</th>\n",
       "      <th>Method</th>\n",
       "      <th>Gain</th>\n",
       "    </tr>\n",
       "  </thead>\n",
       "  <tbody>\n",
       "    <tr>\n",
       "      <th>0</th>\n",
       "      <td>RMSE</td>\n",
       "      <td>1.2880</td>\n",
       "      <td>XGB Segmentation</td>\n",
       "      <td>72.3200</td>\n",
       "    </tr>\n",
       "    <tr>\n",
       "      <th>1</th>\n",
       "      <td>MAE</td>\n",
       "      <td>0.7680</td>\n",
       "      <td>XGB Segmentation</td>\n",
       "      <td>72.3200</td>\n",
       "    </tr>\n",
       "    <tr>\n",
       "      <th>2</th>\n",
       "      <td>MAPE</td>\n",
       "      <td>0.4970</td>\n",
       "      <td>XGB Segmentation</td>\n",
       "      <td>72.3200</td>\n",
       "    </tr>\n",
       "    <tr>\n",
       "      <th>3</th>\n",
       "      <td>WAPE</td>\n",
       "      <td>0.4950</td>\n",
       "      <td>XGB Segmentation</td>\n",
       "      <td>72.3200</td>\n",
       "    </tr>\n",
       "  </tbody>\n",
       "</table>\n",
       "</div>"
      ],
      "text/plain": [
       "  Metric  Score            Method    Gain\n",
       "0   RMSE 1.2880  XGB Segmentation 72.3200\n",
       "1    MAE 0.7680  XGB Segmentation 72.3200\n",
       "2   MAPE 0.4970  XGB Segmentation 72.3200\n",
       "3   WAPE 0.4950  XGB Segmentation 72.3200"
      ]
     },
     "execution_count": 23,
     "metadata": {},
     "output_type": "execute_result"
    }
   ],
   "source": [
    "boosting_metrics"
   ]
  },
  {
   "cell_type": "code",
   "execution_count": 24,
   "id": "98cb6fb5",
   "metadata": {
    "ExecuteTime": {
     "end_time": "2022-05-15T20:22:51.987457Z",
     "start_time": "2022-05-15T20:22:51.980992Z"
    }
   },
   "outputs": [
    {
     "data": {
      "text/html": [
       "<div>\n",
       "<style scoped>\n",
       "    .dataframe tbody tr th:only-of-type {\n",
       "        vertical-align: middle;\n",
       "    }\n",
       "\n",
       "    .dataframe tbody tr th {\n",
       "        vertical-align: top;\n",
       "    }\n",
       "\n",
       "    .dataframe thead th {\n",
       "        text-align: right;\n",
       "    }\n",
       "</style>\n",
       "<table border=\"1\" class=\"dataframe\">\n",
       "  <thead>\n",
       "    <tr style=\"text-align: right;\">\n",
       "      <th></th>\n",
       "      <th>Metric</th>\n",
       "      <th>Score</th>\n",
       "      <th>Method</th>\n",
       "      <th>Gain</th>\n",
       "    </tr>\n",
       "  </thead>\n",
       "  <tbody>\n",
       "    <tr>\n",
       "      <th>0</th>\n",
       "      <td>RMSE</td>\n",
       "      <td>1.5320</td>\n",
       "      <td>Pooling</td>\n",
       "      <td>14.0400</td>\n",
       "    </tr>\n",
       "    <tr>\n",
       "      <th>1</th>\n",
       "      <td>MAE</td>\n",
       "      <td>0.8880</td>\n",
       "      <td>Pooling</td>\n",
       "      <td>14.0400</td>\n",
       "    </tr>\n",
       "    <tr>\n",
       "      <th>2</th>\n",
       "      <td>MAPE</td>\n",
       "      <td>0.5460</td>\n",
       "      <td>Pooling</td>\n",
       "      <td>14.0400</td>\n",
       "    </tr>\n",
       "    <tr>\n",
       "      <th>3</th>\n",
       "      <td>WAPE</td>\n",
       "      <td>0.5720</td>\n",
       "      <td>Pooling</td>\n",
       "      <td>14.0400</td>\n",
       "    </tr>\n",
       "  </tbody>\n",
       "</table>\n",
       "</div>"
      ],
      "text/plain": [
       "  Metric  Score   Method    Gain\n",
       "0   RMSE 1.5320  Pooling 14.0400\n",
       "1    MAE 0.8880  Pooling 14.0400\n",
       "2   MAPE 0.5460  Pooling 14.0400\n",
       "3   WAPE 0.5720  Pooling 14.0400"
      ]
     },
     "execution_count": 24,
     "metadata": {},
     "output_type": "execute_result"
    }
   ],
   "source": [
    "pooling_metrics"
   ]
  },
  {
   "cell_type": "code",
   "execution_count": 25,
   "id": "8293bb19",
   "metadata": {
    "ExecuteTime": {
     "end_time": "2022-05-15T20:22:52.656999Z",
     "start_time": "2022-05-15T20:22:52.651079Z"
    }
   },
   "outputs": [
    {
     "data": {
      "text/html": [
       "<div>\n",
       "<style scoped>\n",
       "    .dataframe tbody tr th:only-of-type {\n",
       "        vertical-align: middle;\n",
       "    }\n",
       "\n",
       "    .dataframe tbody tr th {\n",
       "        vertical-align: top;\n",
       "    }\n",
       "\n",
       "    .dataframe thead th {\n",
       "        text-align: right;\n",
       "    }\n",
       "</style>\n",
       "<table border=\"1\" class=\"dataframe\">\n",
       "  <thead>\n",
       "    <tr style=\"text-align: right;\">\n",
       "      <th></th>\n",
       "      <th>Metric</th>\n",
       "      <th>Score</th>\n",
       "      <th>Method</th>\n",
       "      <th>Gain</th>\n",
       "    </tr>\n",
       "  </thead>\n",
       "  <tbody>\n",
       "    <tr>\n",
       "      <th>0</th>\n",
       "      <td>RMSE</td>\n",
       "      <td>1.7700</td>\n",
       "      <td>TSNE</td>\n",
       "      <td>62.7600</td>\n",
       "    </tr>\n",
       "    <tr>\n",
       "      <th>1</th>\n",
       "      <td>MAE</td>\n",
       "      <td>1.4300</td>\n",
       "      <td>TSNE</td>\n",
       "      <td>62.7600</td>\n",
       "    </tr>\n",
       "    <tr>\n",
       "      <th>2</th>\n",
       "      <td>MAPE</td>\n",
       "      <td>NaN</td>\n",
       "      <td>TSNE</td>\n",
       "      <td>62.7600</td>\n",
       "    </tr>\n",
       "    <tr>\n",
       "      <th>3</th>\n",
       "      <td>WAPE</td>\n",
       "      <td>0.7900</td>\n",
       "      <td>TSNE</td>\n",
       "      <td>62.7600</td>\n",
       "    </tr>\n",
       "  </tbody>\n",
       "</table>\n",
       "</div>"
      ],
      "text/plain": [
       "  Metric  Score Method    Gain\n",
       "0   RMSE 1.7700   TSNE 62.7600\n",
       "1    MAE 1.4300   TSNE 62.7600\n",
       "2   MAPE    NaN   TSNE 62.7600\n",
       "3   WAPE 0.7900   TSNE 62.7600"
      ]
     },
     "execution_count": 25,
     "metadata": {},
     "output_type": "execute_result"
    }
   ],
   "source": [
    "recent_research_metrics"
   ]
  },
  {
   "cell_type": "code",
   "execution_count": 26,
   "id": "3847bfe3",
   "metadata": {
    "ExecuteTime": {
     "end_time": "2022-05-15T20:22:53.478256Z",
     "start_time": "2022-05-15T20:22:53.468437Z"
    }
   },
   "outputs": [
    {
     "data": {
      "text/html": [
       "<div>\n",
       "<style scoped>\n",
       "    .dataframe tbody tr th:only-of-type {\n",
       "        vertical-align: middle;\n",
       "    }\n",
       "\n",
       "    .dataframe tbody tr th {\n",
       "        vertical-align: top;\n",
       "    }\n",
       "\n",
       "    .dataframe thead th {\n",
       "        text-align: right;\n",
       "    }\n",
       "</style>\n",
       "<table border=\"1\" class=\"dataframe\">\n",
       "  <thead>\n",
       "    <tr style=\"text-align: right;\">\n",
       "      <th></th>\n",
       "      <th>Metric</th>\n",
       "      <th>Score</th>\n",
       "      <th>Method</th>\n",
       "      <th>Gain</th>\n",
       "    </tr>\n",
       "  </thead>\n",
       "  <tbody>\n",
       "    <tr>\n",
       "      <th>0</th>\n",
       "      <td>RMSE</td>\n",
       "      <td>1.2880</td>\n",
       "      <td>XGB Segmentation</td>\n",
       "      <td>72.3200</td>\n",
       "    </tr>\n",
       "    <tr>\n",
       "      <th>1</th>\n",
       "      <td>MAE</td>\n",
       "      <td>0.7680</td>\n",
       "      <td>XGB Segmentation</td>\n",
       "      <td>72.3200</td>\n",
       "    </tr>\n",
       "    <tr>\n",
       "      <th>2</th>\n",
       "      <td>MAPE</td>\n",
       "      <td>0.4970</td>\n",
       "      <td>XGB Segmentation</td>\n",
       "      <td>72.3200</td>\n",
       "    </tr>\n",
       "    <tr>\n",
       "      <th>3</th>\n",
       "      <td>WAPE</td>\n",
       "      <td>0.4950</td>\n",
       "      <td>XGB Segmentation</td>\n",
       "      <td>72.3200</td>\n",
       "    </tr>\n",
       "    <tr>\n",
       "      <th>4</th>\n",
       "      <td>RMSE</td>\n",
       "      <td>1.5320</td>\n",
       "      <td>Pooling</td>\n",
       "      <td>14.0400</td>\n",
       "    </tr>\n",
       "    <tr>\n",
       "      <th>5</th>\n",
       "      <td>MAE</td>\n",
       "      <td>0.8880</td>\n",
       "      <td>Pooling</td>\n",
       "      <td>14.0400</td>\n",
       "    </tr>\n",
       "    <tr>\n",
       "      <th>6</th>\n",
       "      <td>MAPE</td>\n",
       "      <td>0.5460</td>\n",
       "      <td>Pooling</td>\n",
       "      <td>14.0400</td>\n",
       "    </tr>\n",
       "    <tr>\n",
       "      <th>7</th>\n",
       "      <td>WAPE</td>\n",
       "      <td>0.5720</td>\n",
       "      <td>Pooling</td>\n",
       "      <td>14.0400</td>\n",
       "    </tr>\n",
       "    <tr>\n",
       "      <th>8</th>\n",
       "      <td>RMSE</td>\n",
       "      <td>1.7700</td>\n",
       "      <td>TSNE</td>\n",
       "      <td>62.7600</td>\n",
       "    </tr>\n",
       "    <tr>\n",
       "      <th>9</th>\n",
       "      <td>MAE</td>\n",
       "      <td>1.4300</td>\n",
       "      <td>TSNE</td>\n",
       "      <td>62.7600</td>\n",
       "    </tr>\n",
       "    <tr>\n",
       "      <th>10</th>\n",
       "      <td>MAPE</td>\n",
       "      <td>NaN</td>\n",
       "      <td>TSNE</td>\n",
       "      <td>62.7600</td>\n",
       "    </tr>\n",
       "    <tr>\n",
       "      <th>11</th>\n",
       "      <td>WAPE</td>\n",
       "      <td>0.7900</td>\n",
       "      <td>TSNE</td>\n",
       "      <td>62.7600</td>\n",
       "    </tr>\n",
       "  </tbody>\n",
       "</table>\n",
       "</div>"
      ],
      "text/plain": [
       "   Metric  Score            Method    Gain\n",
       "0    RMSE 1.2880  XGB Segmentation 72.3200\n",
       "1     MAE 0.7680  XGB Segmentation 72.3200\n",
       "2    MAPE 0.4970  XGB Segmentation 72.3200\n",
       "3    WAPE 0.4950  XGB Segmentation 72.3200\n",
       "4    RMSE 1.5320           Pooling 14.0400\n",
       "5     MAE 0.8880           Pooling 14.0400\n",
       "6    MAPE 0.5460           Pooling 14.0400\n",
       "7    WAPE 0.5720           Pooling 14.0400\n",
       "8    RMSE 1.7700              TSNE 62.7600\n",
       "9     MAE 1.4300              TSNE 62.7600\n",
       "10   MAPE    NaN              TSNE 62.7600\n",
       "11   WAPE 0.7900              TSNE 62.7600"
      ]
     },
     "execution_count": 26,
     "metadata": {},
     "output_type": "execute_result"
    }
   ],
   "source": [
    "all_metrics = boosting_metrics.copy()\n",
    "all_metrics = all_metrics.append(pooling_metrics.append(recent_research_metrics)).reset_index(drop = True)\n",
    "all_metrics"
   ]
  },
  {
   "cell_type": "code",
   "execution_count": 31,
   "id": "1a450070",
   "metadata": {
    "ExecuteTime": {
     "end_time": "2022-05-15T20:26:37.815888Z",
     "start_time": "2022-05-15T20:26:37.754449Z"
    }
   },
   "outputs": [
    {
     "data": {
      "application/vnd.plotly.v1+json": {
       "config": {
        "plotlyServerURL": "https://plot.ly"
       },
       "data": [
        {
         "hovertemplate": "Method=XGB Segmentation<br>Metric=RMSE<br>Gain=%{x}<br>Score=%{y}<extra></extra>",
         "legendgroup": "XGB Segmentation, RMSE",
         "marker": {
          "color": "#636efa",
          "symbol": "circle"
         },
         "mode": "markers",
         "name": "XGB Segmentation, RMSE",
         "orientation": "v",
         "showlegend": true,
         "type": "scatter",
         "x": [
          72.32
         ],
         "xaxis": "x",
         "y": [
          1.288
         ],
         "yaxis": "y"
        },
        {
         "hovertemplate": "Method=XGB Segmentation<br>Metric=MAE<br>Gain=%{x}<br>Score=%{y}<extra></extra>",
         "legendgroup": "XGB Segmentation, MAE",
         "marker": {
          "color": "#636efa",
          "symbol": "diamond"
         },
         "mode": "markers",
         "name": "XGB Segmentation, MAE",
         "orientation": "v",
         "showlegend": true,
         "type": "scatter",
         "x": [
          72.32
         ],
         "xaxis": "x",
         "y": [
          0.768
         ],
         "yaxis": "y"
        },
        {
         "hovertemplate": "Method=XGB Segmentation<br>Metric=MAPE<br>Gain=%{x}<br>Score=%{y}<extra></extra>",
         "legendgroup": "XGB Segmentation, MAPE",
         "marker": {
          "color": "#636efa",
          "symbol": "square"
         },
         "mode": "markers",
         "name": "XGB Segmentation, MAPE",
         "orientation": "v",
         "showlegend": true,
         "type": "scatter",
         "x": [
          72.32
         ],
         "xaxis": "x",
         "y": [
          0.497
         ],
         "yaxis": "y"
        },
        {
         "hovertemplate": "Method=XGB Segmentation<br>Metric=WAPE<br>Gain=%{x}<br>Score=%{y}<extra></extra>",
         "legendgroup": "XGB Segmentation, WAPE",
         "marker": {
          "color": "#636efa",
          "symbol": "x"
         },
         "mode": "markers",
         "name": "XGB Segmentation, WAPE",
         "orientation": "v",
         "showlegend": true,
         "type": "scatter",
         "x": [
          72.32
         ],
         "xaxis": "x",
         "y": [
          0.495
         ],
         "yaxis": "y"
        },
        {
         "hovertemplate": "Method=Pooling<br>Metric=RMSE<br>Gain=%{x}<br>Score=%{y}<extra></extra>",
         "legendgroup": "Pooling, RMSE",
         "marker": {
          "color": "#EF553B",
          "symbol": "circle"
         },
         "mode": "markers",
         "name": "Pooling, RMSE",
         "orientation": "v",
         "showlegend": true,
         "type": "scatter",
         "x": [
          14.04
         ],
         "xaxis": "x",
         "y": [
          1.532
         ],
         "yaxis": "y"
        },
        {
         "hovertemplate": "Method=Pooling<br>Metric=MAE<br>Gain=%{x}<br>Score=%{y}<extra></extra>",
         "legendgroup": "Pooling, MAE",
         "marker": {
          "color": "#EF553B",
          "symbol": "diamond"
         },
         "mode": "markers",
         "name": "Pooling, MAE",
         "orientation": "v",
         "showlegend": true,
         "type": "scatter",
         "x": [
          14.04
         ],
         "xaxis": "x",
         "y": [
          0.888
         ],
         "yaxis": "y"
        },
        {
         "hovertemplate": "Method=Pooling<br>Metric=MAPE<br>Gain=%{x}<br>Score=%{y}<extra></extra>",
         "legendgroup": "Pooling, MAPE",
         "marker": {
          "color": "#EF553B",
          "symbol": "square"
         },
         "mode": "markers",
         "name": "Pooling, MAPE",
         "orientation": "v",
         "showlegend": true,
         "type": "scatter",
         "x": [
          14.04
         ],
         "xaxis": "x",
         "y": [
          0.546
         ],
         "yaxis": "y"
        },
        {
         "hovertemplate": "Method=Pooling<br>Metric=WAPE<br>Gain=%{x}<br>Score=%{y}<extra></extra>",
         "legendgroup": "Pooling, WAPE",
         "marker": {
          "color": "#EF553B",
          "symbol": "x"
         },
         "mode": "markers",
         "name": "Pooling, WAPE",
         "orientation": "v",
         "showlegend": true,
         "type": "scatter",
         "x": [
          14.04
         ],
         "xaxis": "x",
         "y": [
          0.572
         ],
         "yaxis": "y"
        },
        {
         "hovertemplate": "Method=TSNE<br>Metric=RMSE<br>Gain=%{x}<br>Score=%{y}<extra></extra>",
         "legendgroup": "TSNE, RMSE",
         "marker": {
          "color": "#00cc96",
          "symbol": "circle"
         },
         "mode": "markers",
         "name": "TSNE, RMSE",
         "orientation": "v",
         "showlegend": true,
         "type": "scatter",
         "x": [
          62.76
         ],
         "xaxis": "x",
         "y": [
          1.77
         ],
         "yaxis": "y"
        },
        {
         "hovertemplate": "Method=TSNE<br>Metric=MAE<br>Gain=%{x}<br>Score=%{y}<extra></extra>",
         "legendgroup": "TSNE, MAE",
         "marker": {
          "color": "#00cc96",
          "symbol": "diamond"
         },
         "mode": "markers",
         "name": "TSNE, MAE",
         "orientation": "v",
         "showlegend": true,
         "type": "scatter",
         "x": [
          62.76
         ],
         "xaxis": "x",
         "y": [
          1.43
         ],
         "yaxis": "y"
        },
        {
         "hovertemplate": "Method=TSNE<br>Metric=MAPE<br>Gain=%{x}<br>Score=%{y}<extra></extra>",
         "legendgroup": "TSNE, MAPE",
         "marker": {
          "color": "#00cc96",
          "symbol": "square"
         },
         "mode": "markers",
         "name": "TSNE, MAPE",
         "orientation": "v",
         "showlegend": true,
         "type": "scatter",
         "x": [
          62.76
         ],
         "xaxis": "x",
         "y": [
          null
         ],
         "yaxis": "y"
        },
        {
         "hovertemplate": "Method=TSNE<br>Metric=WAPE<br>Gain=%{x}<br>Score=%{y}<extra></extra>",
         "legendgroup": "TSNE, WAPE",
         "marker": {
          "color": "#00cc96",
          "symbol": "x"
         },
         "mode": "markers",
         "name": "TSNE, WAPE",
         "orientation": "v",
         "showlegend": true,
         "type": "scatter",
         "x": [
          62.76
         ],
         "xaxis": "x",
         "y": [
          0.79
         ],
         "yaxis": "y"
        }
       ],
       "layout": {
        "legend": {
         "title": {
          "text": "Method, Metric"
         },
         "tracegroupgap": 0
        },
        "template": {
         "data": {
          "bar": [
           {
            "error_x": {
             "color": "#2a3f5f"
            },
            "error_y": {
             "color": "#2a3f5f"
            },
            "marker": {
             "line": {
              "color": "#E5ECF6",
              "width": 0.5
             }
            },
            "type": "bar"
           }
          ],
          "barpolar": [
           {
            "marker": {
             "line": {
              "color": "#E5ECF6",
              "width": 0.5
             }
            },
            "type": "barpolar"
           }
          ],
          "carpet": [
           {
            "aaxis": {
             "endlinecolor": "#2a3f5f",
             "gridcolor": "white",
             "linecolor": "white",
             "minorgridcolor": "white",
             "startlinecolor": "#2a3f5f"
            },
            "baxis": {
             "endlinecolor": "#2a3f5f",
             "gridcolor": "white",
             "linecolor": "white",
             "minorgridcolor": "white",
             "startlinecolor": "#2a3f5f"
            },
            "type": "carpet"
           }
          ],
          "choropleth": [
           {
            "colorbar": {
             "outlinewidth": 0,
             "ticks": ""
            },
            "type": "choropleth"
           }
          ],
          "contour": [
           {
            "colorbar": {
             "outlinewidth": 0,
             "ticks": ""
            },
            "colorscale": [
             [
              0,
              "#0d0887"
             ],
             [
              0.1111111111111111,
              "#46039f"
             ],
             [
              0.2222222222222222,
              "#7201a8"
             ],
             [
              0.3333333333333333,
              "#9c179e"
             ],
             [
              0.4444444444444444,
              "#bd3786"
             ],
             [
              0.5555555555555556,
              "#d8576b"
             ],
             [
              0.6666666666666666,
              "#ed7953"
             ],
             [
              0.7777777777777778,
              "#fb9f3a"
             ],
             [
              0.8888888888888888,
              "#fdca26"
             ],
             [
              1,
              "#f0f921"
             ]
            ],
            "type": "contour"
           }
          ],
          "contourcarpet": [
           {
            "colorbar": {
             "outlinewidth": 0,
             "ticks": ""
            },
            "type": "contourcarpet"
           }
          ],
          "heatmap": [
           {
            "colorbar": {
             "outlinewidth": 0,
             "ticks": ""
            },
            "colorscale": [
             [
              0,
              "#0d0887"
             ],
             [
              0.1111111111111111,
              "#46039f"
             ],
             [
              0.2222222222222222,
              "#7201a8"
             ],
             [
              0.3333333333333333,
              "#9c179e"
             ],
             [
              0.4444444444444444,
              "#bd3786"
             ],
             [
              0.5555555555555556,
              "#d8576b"
             ],
             [
              0.6666666666666666,
              "#ed7953"
             ],
             [
              0.7777777777777778,
              "#fb9f3a"
             ],
             [
              0.8888888888888888,
              "#fdca26"
             ],
             [
              1,
              "#f0f921"
             ]
            ],
            "type": "heatmap"
           }
          ],
          "heatmapgl": [
           {
            "colorbar": {
             "outlinewidth": 0,
             "ticks": ""
            },
            "colorscale": [
             [
              0,
              "#0d0887"
             ],
             [
              0.1111111111111111,
              "#46039f"
             ],
             [
              0.2222222222222222,
              "#7201a8"
             ],
             [
              0.3333333333333333,
              "#9c179e"
             ],
             [
              0.4444444444444444,
              "#bd3786"
             ],
             [
              0.5555555555555556,
              "#d8576b"
             ],
             [
              0.6666666666666666,
              "#ed7953"
             ],
             [
              0.7777777777777778,
              "#fb9f3a"
             ],
             [
              0.8888888888888888,
              "#fdca26"
             ],
             [
              1,
              "#f0f921"
             ]
            ],
            "type": "heatmapgl"
           }
          ],
          "histogram": [
           {
            "marker": {
             "colorbar": {
              "outlinewidth": 0,
              "ticks": ""
             }
            },
            "type": "histogram"
           }
          ],
          "histogram2d": [
           {
            "colorbar": {
             "outlinewidth": 0,
             "ticks": ""
            },
            "colorscale": [
             [
              0,
              "#0d0887"
             ],
             [
              0.1111111111111111,
              "#46039f"
             ],
             [
              0.2222222222222222,
              "#7201a8"
             ],
             [
              0.3333333333333333,
              "#9c179e"
             ],
             [
              0.4444444444444444,
              "#bd3786"
             ],
             [
              0.5555555555555556,
              "#d8576b"
             ],
             [
              0.6666666666666666,
              "#ed7953"
             ],
             [
              0.7777777777777778,
              "#fb9f3a"
             ],
             [
              0.8888888888888888,
              "#fdca26"
             ],
             [
              1,
              "#f0f921"
             ]
            ],
            "type": "histogram2d"
           }
          ],
          "histogram2dcontour": [
           {
            "colorbar": {
             "outlinewidth": 0,
             "ticks": ""
            },
            "colorscale": [
             [
              0,
              "#0d0887"
             ],
             [
              0.1111111111111111,
              "#46039f"
             ],
             [
              0.2222222222222222,
              "#7201a8"
             ],
             [
              0.3333333333333333,
              "#9c179e"
             ],
             [
              0.4444444444444444,
              "#bd3786"
             ],
             [
              0.5555555555555556,
              "#d8576b"
             ],
             [
              0.6666666666666666,
              "#ed7953"
             ],
             [
              0.7777777777777778,
              "#fb9f3a"
             ],
             [
              0.8888888888888888,
              "#fdca26"
             ],
             [
              1,
              "#f0f921"
             ]
            ],
            "type": "histogram2dcontour"
           }
          ],
          "mesh3d": [
           {
            "colorbar": {
             "outlinewidth": 0,
             "ticks": ""
            },
            "type": "mesh3d"
           }
          ],
          "parcoords": [
           {
            "line": {
             "colorbar": {
              "outlinewidth": 0,
              "ticks": ""
             }
            },
            "type": "parcoords"
           }
          ],
          "pie": [
           {
            "automargin": true,
            "type": "pie"
           }
          ],
          "scatter": [
           {
            "marker": {
             "colorbar": {
              "outlinewidth": 0,
              "ticks": ""
             }
            },
            "type": "scatter"
           }
          ],
          "scatter3d": [
           {
            "line": {
             "colorbar": {
              "outlinewidth": 0,
              "ticks": ""
             }
            },
            "marker": {
             "colorbar": {
              "outlinewidth": 0,
              "ticks": ""
             }
            },
            "type": "scatter3d"
           }
          ],
          "scattercarpet": [
           {
            "marker": {
             "colorbar": {
              "outlinewidth": 0,
              "ticks": ""
             }
            },
            "type": "scattercarpet"
           }
          ],
          "scattergeo": [
           {
            "marker": {
             "colorbar": {
              "outlinewidth": 0,
              "ticks": ""
             }
            },
            "type": "scattergeo"
           }
          ],
          "scattergl": [
           {
            "marker": {
             "colorbar": {
              "outlinewidth": 0,
              "ticks": ""
             }
            },
            "type": "scattergl"
           }
          ],
          "scattermapbox": [
           {
            "marker": {
             "colorbar": {
              "outlinewidth": 0,
              "ticks": ""
             }
            },
            "type": "scattermapbox"
           }
          ],
          "scatterpolar": [
           {
            "marker": {
             "colorbar": {
              "outlinewidth": 0,
              "ticks": ""
             }
            },
            "type": "scatterpolar"
           }
          ],
          "scatterpolargl": [
           {
            "marker": {
             "colorbar": {
              "outlinewidth": 0,
              "ticks": ""
             }
            },
            "type": "scatterpolargl"
           }
          ],
          "scatterternary": [
           {
            "marker": {
             "colorbar": {
              "outlinewidth": 0,
              "ticks": ""
             }
            },
            "type": "scatterternary"
           }
          ],
          "surface": [
           {
            "colorbar": {
             "outlinewidth": 0,
             "ticks": ""
            },
            "colorscale": [
             [
              0,
              "#0d0887"
             ],
             [
              0.1111111111111111,
              "#46039f"
             ],
             [
              0.2222222222222222,
              "#7201a8"
             ],
             [
              0.3333333333333333,
              "#9c179e"
             ],
             [
              0.4444444444444444,
              "#bd3786"
             ],
             [
              0.5555555555555556,
              "#d8576b"
             ],
             [
              0.6666666666666666,
              "#ed7953"
             ],
             [
              0.7777777777777778,
              "#fb9f3a"
             ],
             [
              0.8888888888888888,
              "#fdca26"
             ],
             [
              1,
              "#f0f921"
             ]
            ],
            "type": "surface"
           }
          ],
          "table": [
           {
            "cells": {
             "fill": {
              "color": "#EBF0F8"
             },
             "line": {
              "color": "white"
             }
            },
            "header": {
             "fill": {
              "color": "#C8D4E3"
             },
             "line": {
              "color": "white"
             }
            },
            "type": "table"
           }
          ]
         },
         "layout": {
          "annotationdefaults": {
           "arrowcolor": "#2a3f5f",
           "arrowhead": 0,
           "arrowwidth": 1
          },
          "autotypenumbers": "strict",
          "coloraxis": {
           "colorbar": {
            "outlinewidth": 0,
            "ticks": ""
           }
          },
          "colorscale": {
           "diverging": [
            [
             0,
             "#8e0152"
            ],
            [
             0.1,
             "#c51b7d"
            ],
            [
             0.2,
             "#de77ae"
            ],
            [
             0.3,
             "#f1b6da"
            ],
            [
             0.4,
             "#fde0ef"
            ],
            [
             0.5,
             "#f7f7f7"
            ],
            [
             0.6,
             "#e6f5d0"
            ],
            [
             0.7,
             "#b8e186"
            ],
            [
             0.8,
             "#7fbc41"
            ],
            [
             0.9,
             "#4d9221"
            ],
            [
             1,
             "#276419"
            ]
           ],
           "sequential": [
            [
             0,
             "#0d0887"
            ],
            [
             0.1111111111111111,
             "#46039f"
            ],
            [
             0.2222222222222222,
             "#7201a8"
            ],
            [
             0.3333333333333333,
             "#9c179e"
            ],
            [
             0.4444444444444444,
             "#bd3786"
            ],
            [
             0.5555555555555556,
             "#d8576b"
            ],
            [
             0.6666666666666666,
             "#ed7953"
            ],
            [
             0.7777777777777778,
             "#fb9f3a"
            ],
            [
             0.8888888888888888,
             "#fdca26"
            ],
            [
             1,
             "#f0f921"
            ]
           ],
           "sequentialminus": [
            [
             0,
             "#0d0887"
            ],
            [
             0.1111111111111111,
             "#46039f"
            ],
            [
             0.2222222222222222,
             "#7201a8"
            ],
            [
             0.3333333333333333,
             "#9c179e"
            ],
            [
             0.4444444444444444,
             "#bd3786"
            ],
            [
             0.5555555555555556,
             "#d8576b"
            ],
            [
             0.6666666666666666,
             "#ed7953"
            ],
            [
             0.7777777777777778,
             "#fb9f3a"
            ],
            [
             0.8888888888888888,
             "#fdca26"
            ],
            [
             1,
             "#f0f921"
            ]
           ]
          },
          "colorway": [
           "#636efa",
           "#EF553B",
           "#00cc96",
           "#ab63fa",
           "#FFA15A",
           "#19d3f3",
           "#FF6692",
           "#B6E880",
           "#FF97FF",
           "#FECB52"
          ],
          "font": {
           "color": "#2a3f5f"
          },
          "geo": {
           "bgcolor": "white",
           "lakecolor": "white",
           "landcolor": "#E5ECF6",
           "showlakes": true,
           "showland": true,
           "subunitcolor": "white"
          },
          "hoverlabel": {
           "align": "left"
          },
          "hovermode": "closest",
          "mapbox": {
           "style": "light"
          },
          "paper_bgcolor": "white",
          "plot_bgcolor": "#E5ECF6",
          "polar": {
           "angularaxis": {
            "gridcolor": "white",
            "linecolor": "white",
            "ticks": ""
           },
           "bgcolor": "#E5ECF6",
           "radialaxis": {
            "gridcolor": "white",
            "linecolor": "white",
            "ticks": ""
           }
          },
          "scene": {
           "xaxis": {
            "backgroundcolor": "#E5ECF6",
            "gridcolor": "white",
            "gridwidth": 2,
            "linecolor": "white",
            "showbackground": true,
            "ticks": "",
            "zerolinecolor": "white"
           },
           "yaxis": {
            "backgroundcolor": "#E5ECF6",
            "gridcolor": "white",
            "gridwidth": 2,
            "linecolor": "white",
            "showbackground": true,
            "ticks": "",
            "zerolinecolor": "white"
           },
           "zaxis": {
            "backgroundcolor": "#E5ECF6",
            "gridcolor": "white",
            "gridwidth": 2,
            "linecolor": "white",
            "showbackground": true,
            "ticks": "",
            "zerolinecolor": "white"
           }
          },
          "shapedefaults": {
           "line": {
            "color": "#2a3f5f"
           }
          },
          "ternary": {
           "aaxis": {
            "gridcolor": "white",
            "linecolor": "white",
            "ticks": ""
           },
           "baxis": {
            "gridcolor": "white",
            "linecolor": "white",
            "ticks": ""
           },
           "bgcolor": "#E5ECF6",
           "caxis": {
            "gridcolor": "white",
            "linecolor": "white",
            "ticks": ""
           }
          },
          "title": {
           "x": 0.05
          },
          "xaxis": {
           "automargin": true,
           "gridcolor": "white",
           "linecolor": "white",
           "ticks": "",
           "title": {
            "standoff": 15
           },
           "zerolinecolor": "white",
           "zerolinewidth": 2
          },
          "yaxis": {
           "automargin": true,
           "gridcolor": "white",
           "linecolor": "white",
           "ticks": "",
           "title": {
            "standoff": 15
           },
           "zerolinecolor": "white",
           "zerolinewidth": 2
          }
         }
        },
        "title": {
         "text": "Visual metrics comparison"
        },
        "xaxis": {
         "anchor": "y",
         "domain": [
          0,
          1
         ],
         "title": {
          "text": "Gain"
         }
        },
        "yaxis": {
         "anchor": "x",
         "domain": [
          0,
          1
         ],
         "title": {
          "text": "Score"
         }
        }
       }
      },
      "text/html": [
       "<div>                            <div id=\"625eea5e-6913-47eb-8d35-76138041dc4e\" class=\"plotly-graph-div\" style=\"height:525px; width:100%;\"></div>            <script type=\"text/javascript\">                require([\"plotly\"], function(Plotly) {                    window.PLOTLYENV=window.PLOTLYENV || {};                                    if (document.getElementById(\"625eea5e-6913-47eb-8d35-76138041dc4e\")) {                    Plotly.newPlot(                        \"625eea5e-6913-47eb-8d35-76138041dc4e\",                        [{\"hovertemplate\": \"Method=XGB Segmentation<br>Metric=RMSE<br>Gain=%{x}<br>Score=%{y}<extra></extra>\", \"legendgroup\": \"XGB Segmentation, RMSE\", \"marker\": {\"color\": \"#636efa\", \"symbol\": \"circle\"}, \"mode\": \"markers\", \"name\": \"XGB Segmentation, RMSE\", \"orientation\": \"v\", \"showlegend\": true, \"type\": \"scatter\", \"x\": [72.32], \"xaxis\": \"x\", \"y\": [1.288], \"yaxis\": \"y\"}, {\"hovertemplate\": \"Method=XGB Segmentation<br>Metric=MAE<br>Gain=%{x}<br>Score=%{y}<extra></extra>\", \"legendgroup\": \"XGB Segmentation, MAE\", \"marker\": {\"color\": \"#636efa\", \"symbol\": \"diamond\"}, \"mode\": \"markers\", \"name\": \"XGB Segmentation, MAE\", \"orientation\": \"v\", \"showlegend\": true, \"type\": \"scatter\", \"x\": [72.32], \"xaxis\": \"x\", \"y\": [0.768], \"yaxis\": \"y\"}, {\"hovertemplate\": \"Method=XGB Segmentation<br>Metric=MAPE<br>Gain=%{x}<br>Score=%{y}<extra></extra>\", \"legendgroup\": \"XGB Segmentation, MAPE\", \"marker\": {\"color\": \"#636efa\", \"symbol\": \"square\"}, \"mode\": \"markers\", \"name\": \"XGB Segmentation, MAPE\", \"orientation\": \"v\", \"showlegend\": true, \"type\": \"scatter\", \"x\": [72.32], \"xaxis\": \"x\", \"y\": [0.497], \"yaxis\": \"y\"}, {\"hovertemplate\": \"Method=XGB Segmentation<br>Metric=WAPE<br>Gain=%{x}<br>Score=%{y}<extra></extra>\", \"legendgroup\": \"XGB Segmentation, WAPE\", \"marker\": {\"color\": \"#636efa\", \"symbol\": \"x\"}, \"mode\": \"markers\", \"name\": \"XGB Segmentation, WAPE\", \"orientation\": \"v\", \"showlegend\": true, \"type\": \"scatter\", \"x\": [72.32], \"xaxis\": \"x\", \"y\": [0.495], \"yaxis\": \"y\"}, {\"hovertemplate\": \"Method=Pooling<br>Metric=RMSE<br>Gain=%{x}<br>Score=%{y}<extra></extra>\", \"legendgroup\": \"Pooling, RMSE\", \"marker\": {\"color\": \"#EF553B\", \"symbol\": \"circle\"}, \"mode\": \"markers\", \"name\": \"Pooling, RMSE\", \"orientation\": \"v\", \"showlegend\": true, \"type\": \"scatter\", \"x\": [14.04], \"xaxis\": \"x\", \"y\": [1.532], \"yaxis\": \"y\"}, {\"hovertemplate\": \"Method=Pooling<br>Metric=MAE<br>Gain=%{x}<br>Score=%{y}<extra></extra>\", \"legendgroup\": \"Pooling, MAE\", \"marker\": {\"color\": \"#EF553B\", \"symbol\": \"diamond\"}, \"mode\": \"markers\", \"name\": \"Pooling, MAE\", \"orientation\": \"v\", \"showlegend\": true, \"type\": \"scatter\", \"x\": [14.04], \"xaxis\": \"x\", \"y\": [0.888], \"yaxis\": \"y\"}, {\"hovertemplate\": \"Method=Pooling<br>Metric=MAPE<br>Gain=%{x}<br>Score=%{y}<extra></extra>\", \"legendgroup\": \"Pooling, MAPE\", \"marker\": {\"color\": \"#EF553B\", \"symbol\": \"square\"}, \"mode\": \"markers\", \"name\": \"Pooling, MAPE\", \"orientation\": \"v\", \"showlegend\": true, \"type\": \"scatter\", \"x\": [14.04], \"xaxis\": \"x\", \"y\": [0.546], \"yaxis\": \"y\"}, {\"hovertemplate\": \"Method=Pooling<br>Metric=WAPE<br>Gain=%{x}<br>Score=%{y}<extra></extra>\", \"legendgroup\": \"Pooling, WAPE\", \"marker\": {\"color\": \"#EF553B\", \"symbol\": \"x\"}, \"mode\": \"markers\", \"name\": \"Pooling, WAPE\", \"orientation\": \"v\", \"showlegend\": true, \"type\": \"scatter\", \"x\": [14.04], \"xaxis\": \"x\", \"y\": [0.572], \"yaxis\": \"y\"}, {\"hovertemplate\": \"Method=TSNE<br>Metric=RMSE<br>Gain=%{x}<br>Score=%{y}<extra></extra>\", \"legendgroup\": \"TSNE, RMSE\", \"marker\": {\"color\": \"#00cc96\", \"symbol\": \"circle\"}, \"mode\": \"markers\", \"name\": \"TSNE, RMSE\", \"orientation\": \"v\", \"showlegend\": true, \"type\": \"scatter\", \"x\": [62.76], \"xaxis\": \"x\", \"y\": [1.77], \"yaxis\": \"y\"}, {\"hovertemplate\": \"Method=TSNE<br>Metric=MAE<br>Gain=%{x}<br>Score=%{y}<extra></extra>\", \"legendgroup\": \"TSNE, MAE\", \"marker\": {\"color\": \"#00cc96\", \"symbol\": \"diamond\"}, \"mode\": \"markers\", \"name\": \"TSNE, MAE\", \"orientation\": \"v\", \"showlegend\": true, \"type\": \"scatter\", \"x\": [62.76], \"xaxis\": \"x\", \"y\": [1.43], \"yaxis\": \"y\"}, {\"hovertemplate\": \"Method=TSNE<br>Metric=MAPE<br>Gain=%{x}<br>Score=%{y}<extra></extra>\", \"legendgroup\": \"TSNE, MAPE\", \"marker\": {\"color\": \"#00cc96\", \"symbol\": \"square\"}, \"mode\": \"markers\", \"name\": \"TSNE, MAPE\", \"orientation\": \"v\", \"showlegend\": true, \"type\": \"scatter\", \"x\": [62.76], \"xaxis\": \"x\", \"y\": [null], \"yaxis\": \"y\"}, {\"hovertemplate\": \"Method=TSNE<br>Metric=WAPE<br>Gain=%{x}<br>Score=%{y}<extra></extra>\", \"legendgroup\": \"TSNE, WAPE\", \"marker\": {\"color\": \"#00cc96\", \"symbol\": \"x\"}, \"mode\": \"markers\", \"name\": \"TSNE, WAPE\", \"orientation\": \"v\", \"showlegend\": true, \"type\": \"scatter\", \"x\": [62.76], \"xaxis\": \"x\", \"y\": [0.79], \"yaxis\": \"y\"}],                        {\"legend\": {\"title\": {\"text\": \"Method, Metric\"}, \"tracegroupgap\": 0}, \"template\": {\"data\": {\"bar\": [{\"error_x\": {\"color\": \"#2a3f5f\"}, \"error_y\": {\"color\": \"#2a3f5f\"}, \"marker\": {\"line\": {\"color\": \"#E5ECF6\", \"width\": 0.5}}, \"type\": \"bar\"}], \"barpolar\": [{\"marker\": {\"line\": {\"color\": \"#E5ECF6\", \"width\": 0.5}}, \"type\": \"barpolar\"}], \"carpet\": [{\"aaxis\": {\"endlinecolor\": \"#2a3f5f\", \"gridcolor\": \"white\", \"linecolor\": \"white\", \"minorgridcolor\": \"white\", \"startlinecolor\": \"#2a3f5f\"}, \"baxis\": {\"endlinecolor\": \"#2a3f5f\", \"gridcolor\": \"white\", \"linecolor\": \"white\", \"minorgridcolor\": \"white\", \"startlinecolor\": \"#2a3f5f\"}, \"type\": \"carpet\"}], \"choropleth\": [{\"colorbar\": {\"outlinewidth\": 0, \"ticks\": \"\"}, \"type\": \"choropleth\"}], \"contour\": [{\"colorbar\": {\"outlinewidth\": 0, \"ticks\": \"\"}, \"colorscale\": [[0.0, \"#0d0887\"], [0.1111111111111111, \"#46039f\"], [0.2222222222222222, \"#7201a8\"], [0.3333333333333333, \"#9c179e\"], [0.4444444444444444, \"#bd3786\"], [0.5555555555555556, \"#d8576b\"], [0.6666666666666666, \"#ed7953\"], [0.7777777777777778, \"#fb9f3a\"], [0.8888888888888888, \"#fdca26\"], [1.0, \"#f0f921\"]], \"type\": \"contour\"}], \"contourcarpet\": [{\"colorbar\": {\"outlinewidth\": 0, \"ticks\": \"\"}, \"type\": \"contourcarpet\"}], \"heatmap\": [{\"colorbar\": {\"outlinewidth\": 0, \"ticks\": \"\"}, \"colorscale\": [[0.0, \"#0d0887\"], [0.1111111111111111, \"#46039f\"], [0.2222222222222222, \"#7201a8\"], [0.3333333333333333, \"#9c179e\"], [0.4444444444444444, \"#bd3786\"], [0.5555555555555556, \"#d8576b\"], [0.6666666666666666, \"#ed7953\"], [0.7777777777777778, \"#fb9f3a\"], [0.8888888888888888, \"#fdca26\"], [1.0, \"#f0f921\"]], \"type\": \"heatmap\"}], \"heatmapgl\": [{\"colorbar\": {\"outlinewidth\": 0, \"ticks\": \"\"}, \"colorscale\": [[0.0, \"#0d0887\"], [0.1111111111111111, \"#46039f\"], [0.2222222222222222, \"#7201a8\"], [0.3333333333333333, \"#9c179e\"], [0.4444444444444444, \"#bd3786\"], [0.5555555555555556, \"#d8576b\"], [0.6666666666666666, \"#ed7953\"], [0.7777777777777778, \"#fb9f3a\"], [0.8888888888888888, \"#fdca26\"], [1.0, \"#f0f921\"]], \"type\": \"heatmapgl\"}], \"histogram\": [{\"marker\": {\"colorbar\": {\"outlinewidth\": 0, \"ticks\": \"\"}}, \"type\": \"histogram\"}], \"histogram2d\": [{\"colorbar\": {\"outlinewidth\": 0, \"ticks\": \"\"}, \"colorscale\": [[0.0, \"#0d0887\"], [0.1111111111111111, \"#46039f\"], [0.2222222222222222, \"#7201a8\"], [0.3333333333333333, \"#9c179e\"], [0.4444444444444444, \"#bd3786\"], [0.5555555555555556, \"#d8576b\"], [0.6666666666666666, \"#ed7953\"], [0.7777777777777778, \"#fb9f3a\"], [0.8888888888888888, \"#fdca26\"], [1.0, \"#f0f921\"]], \"type\": \"histogram2d\"}], \"histogram2dcontour\": [{\"colorbar\": {\"outlinewidth\": 0, \"ticks\": \"\"}, \"colorscale\": [[0.0, \"#0d0887\"], [0.1111111111111111, \"#46039f\"], [0.2222222222222222, \"#7201a8\"], [0.3333333333333333, \"#9c179e\"], [0.4444444444444444, \"#bd3786\"], [0.5555555555555556, \"#d8576b\"], [0.6666666666666666, \"#ed7953\"], [0.7777777777777778, \"#fb9f3a\"], [0.8888888888888888, \"#fdca26\"], [1.0, \"#f0f921\"]], \"type\": \"histogram2dcontour\"}], \"mesh3d\": [{\"colorbar\": {\"outlinewidth\": 0, \"ticks\": \"\"}, \"type\": \"mesh3d\"}], \"parcoords\": [{\"line\": {\"colorbar\": {\"outlinewidth\": 0, \"ticks\": \"\"}}, \"type\": \"parcoords\"}], \"pie\": [{\"automargin\": true, \"type\": \"pie\"}], \"scatter\": [{\"marker\": {\"colorbar\": {\"outlinewidth\": 0, \"ticks\": \"\"}}, \"type\": \"scatter\"}], \"scatter3d\": [{\"line\": {\"colorbar\": {\"outlinewidth\": 0, \"ticks\": \"\"}}, \"marker\": {\"colorbar\": {\"outlinewidth\": 0, \"ticks\": \"\"}}, \"type\": \"scatter3d\"}], \"scattercarpet\": [{\"marker\": {\"colorbar\": {\"outlinewidth\": 0, \"ticks\": \"\"}}, \"type\": \"scattercarpet\"}], \"scattergeo\": [{\"marker\": {\"colorbar\": {\"outlinewidth\": 0, \"ticks\": \"\"}}, \"type\": \"scattergeo\"}], \"scattergl\": [{\"marker\": {\"colorbar\": {\"outlinewidth\": 0, \"ticks\": \"\"}}, \"type\": \"scattergl\"}], \"scattermapbox\": [{\"marker\": {\"colorbar\": {\"outlinewidth\": 0, \"ticks\": \"\"}}, \"type\": \"scattermapbox\"}], \"scatterpolar\": [{\"marker\": {\"colorbar\": {\"outlinewidth\": 0, \"ticks\": \"\"}}, \"type\": \"scatterpolar\"}], \"scatterpolargl\": [{\"marker\": {\"colorbar\": {\"outlinewidth\": 0, \"ticks\": \"\"}}, \"type\": \"scatterpolargl\"}], \"scatterternary\": [{\"marker\": {\"colorbar\": {\"outlinewidth\": 0, \"ticks\": \"\"}}, \"type\": \"scatterternary\"}], \"surface\": [{\"colorbar\": {\"outlinewidth\": 0, \"ticks\": \"\"}, \"colorscale\": [[0.0, \"#0d0887\"], [0.1111111111111111, \"#46039f\"], [0.2222222222222222, \"#7201a8\"], [0.3333333333333333, \"#9c179e\"], [0.4444444444444444, \"#bd3786\"], [0.5555555555555556, \"#d8576b\"], [0.6666666666666666, \"#ed7953\"], [0.7777777777777778, \"#fb9f3a\"], [0.8888888888888888, \"#fdca26\"], [1.0, \"#f0f921\"]], \"type\": \"surface\"}], \"table\": [{\"cells\": {\"fill\": {\"color\": \"#EBF0F8\"}, \"line\": {\"color\": \"white\"}}, \"header\": {\"fill\": {\"color\": \"#C8D4E3\"}, \"line\": {\"color\": \"white\"}}, \"type\": \"table\"}]}, \"layout\": {\"annotationdefaults\": {\"arrowcolor\": \"#2a3f5f\", \"arrowhead\": 0, \"arrowwidth\": 1}, \"autotypenumbers\": \"strict\", \"coloraxis\": {\"colorbar\": {\"outlinewidth\": 0, \"ticks\": \"\"}}, \"colorscale\": {\"diverging\": [[0, \"#8e0152\"], [0.1, \"#c51b7d\"], [0.2, \"#de77ae\"], [0.3, \"#f1b6da\"], [0.4, \"#fde0ef\"], [0.5, \"#f7f7f7\"], [0.6, \"#e6f5d0\"], [0.7, \"#b8e186\"], [0.8, \"#7fbc41\"], [0.9, \"#4d9221\"], [1, \"#276419\"]], \"sequential\": [[0.0, \"#0d0887\"], [0.1111111111111111, \"#46039f\"], [0.2222222222222222, \"#7201a8\"], [0.3333333333333333, \"#9c179e\"], [0.4444444444444444, \"#bd3786\"], [0.5555555555555556, \"#d8576b\"], [0.6666666666666666, \"#ed7953\"], [0.7777777777777778, \"#fb9f3a\"], [0.8888888888888888, \"#fdca26\"], [1.0, \"#f0f921\"]], \"sequentialminus\": [[0.0, \"#0d0887\"], [0.1111111111111111, \"#46039f\"], [0.2222222222222222, \"#7201a8\"], [0.3333333333333333, \"#9c179e\"], [0.4444444444444444, \"#bd3786\"], [0.5555555555555556, \"#d8576b\"], [0.6666666666666666, \"#ed7953\"], [0.7777777777777778, \"#fb9f3a\"], [0.8888888888888888, \"#fdca26\"], [1.0, \"#f0f921\"]]}, \"colorway\": [\"#636efa\", \"#EF553B\", \"#00cc96\", \"#ab63fa\", \"#FFA15A\", \"#19d3f3\", \"#FF6692\", \"#B6E880\", \"#FF97FF\", \"#FECB52\"], \"font\": {\"color\": \"#2a3f5f\"}, \"geo\": {\"bgcolor\": \"white\", \"lakecolor\": \"white\", \"landcolor\": \"#E5ECF6\", \"showlakes\": true, \"showland\": true, \"subunitcolor\": \"white\"}, \"hoverlabel\": {\"align\": \"left\"}, \"hovermode\": \"closest\", \"mapbox\": {\"style\": \"light\"}, \"paper_bgcolor\": \"white\", \"plot_bgcolor\": \"#E5ECF6\", \"polar\": {\"angularaxis\": {\"gridcolor\": \"white\", \"linecolor\": \"white\", \"ticks\": \"\"}, \"bgcolor\": \"#E5ECF6\", \"radialaxis\": {\"gridcolor\": \"white\", \"linecolor\": \"white\", \"ticks\": \"\"}}, \"scene\": {\"xaxis\": {\"backgroundcolor\": \"#E5ECF6\", \"gridcolor\": \"white\", \"gridwidth\": 2, \"linecolor\": \"white\", \"showbackground\": true, \"ticks\": \"\", \"zerolinecolor\": \"white\"}, \"yaxis\": {\"backgroundcolor\": \"#E5ECF6\", \"gridcolor\": \"white\", \"gridwidth\": 2, \"linecolor\": \"white\", \"showbackground\": true, \"ticks\": \"\", \"zerolinecolor\": \"white\"}, \"zaxis\": {\"backgroundcolor\": \"#E5ECF6\", \"gridcolor\": \"white\", \"gridwidth\": 2, \"linecolor\": \"white\", \"showbackground\": true, \"ticks\": \"\", \"zerolinecolor\": \"white\"}}, \"shapedefaults\": {\"line\": {\"color\": \"#2a3f5f\"}}, \"ternary\": {\"aaxis\": {\"gridcolor\": \"white\", \"linecolor\": \"white\", \"ticks\": \"\"}, \"baxis\": {\"gridcolor\": \"white\", \"linecolor\": \"white\", \"ticks\": \"\"}, \"bgcolor\": \"#E5ECF6\", \"caxis\": {\"gridcolor\": \"white\", \"linecolor\": \"white\", \"ticks\": \"\"}}, \"title\": {\"x\": 0.05}, \"xaxis\": {\"automargin\": true, \"gridcolor\": \"white\", \"linecolor\": \"white\", \"ticks\": \"\", \"title\": {\"standoff\": 15}, \"zerolinecolor\": \"white\", \"zerolinewidth\": 2}, \"yaxis\": {\"automargin\": true, \"gridcolor\": \"white\", \"linecolor\": \"white\", \"ticks\": \"\", \"title\": {\"standoff\": 15}, \"zerolinecolor\": \"white\", \"zerolinewidth\": 2}}}, \"title\": {\"text\": \"Visual metrics comparison\"}, \"xaxis\": {\"anchor\": \"y\", \"domain\": [0.0, 1.0], \"title\": {\"text\": \"Gain\"}}, \"yaxis\": {\"anchor\": \"x\", \"domain\": [0.0, 1.0], \"title\": {\"text\": \"Score\"}}},                        {\"responsive\": true}                    ).then(function(){\n",
       "                            \n",
       "var gd = document.getElementById('625eea5e-6913-47eb-8d35-76138041dc4e');\n",
       "var x = new MutationObserver(function (mutations, observer) {{\n",
       "        var display = window.getComputedStyle(gd).display;\n",
       "        if (!display || display === 'none') {{\n",
       "            console.log([gd, 'removed!']);\n",
       "            Plotly.purge(gd);\n",
       "            observer.disconnect();\n",
       "        }}\n",
       "}});\n",
       "\n",
       "// Listen for the removal of the full notebook cells\n",
       "var notebookContainer = gd.closest('#notebook-container');\n",
       "if (notebookContainer) {{\n",
       "    x.observe(notebookContainer, {childList: true});\n",
       "}}\n",
       "\n",
       "// Listen for the clearing of the current output cell\n",
       "var outputEl = gd.closest('.output');\n",
       "if (outputEl) {{\n",
       "    x.observe(outputEl, {childList: true});\n",
       "}}\n",
       "\n",
       "                        })                };                });            </script>        </div>"
      ]
     },
     "metadata": {},
     "output_type": "display_data"
    }
   ],
   "source": [
    "fig = px.scatter(all_metrics,\n",
    "                 x=\"Gain\", y=\"Score\", color=\"Method\",\n",
    "                 symbol = 'Metric', title = 'Visual metrics comparison')\n",
    "fig.show()"
   ]
  },
  {
   "cell_type": "markdown",
   "id": "e00db26a",
   "metadata": {},
   "source": []
  }
 ],
 "metadata": {
  "kernelspec": {
   "display_name": "Python 3",
   "language": "python",
   "name": "python3"
  },
  "language_info": {
   "codemirror_mode": {
    "name": "ipython",
    "version": 3
   },
   "file_extension": ".py",
   "mimetype": "text/x-python",
   "name": "python",
   "nbconvert_exporter": "python",
   "pygments_lexer": "ipython3",
   "version": "3.8.8"
  },
  "toc": {
   "base_numbering": 1,
   "nav_menu": {},
   "number_sections": true,
   "sideBar": true,
   "skip_h1_title": false,
   "title_cell": "Table of Contents",
   "title_sidebar": "Contents",
   "toc_cell": false,
   "toc_position": {
    "height": "calc(100% - 180px)",
    "left": "10px",
    "top": "150px",
    "width": "165px"
   },
   "toc_section_display": true,
   "toc_window_display": true
  }
 },
 "nbformat": 4,
 "nbformat_minor": 5
}
